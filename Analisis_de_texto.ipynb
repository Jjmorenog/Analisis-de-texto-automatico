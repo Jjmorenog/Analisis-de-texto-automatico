{
  "cells": [
    {
      "cell_type": "markdown",
      "metadata": {
        "id": "view-in-github",
        "colab_type": "text"
      },
      "source": [
        "<a href=\"https://colab.research.google.com/github/Jjmorenog/Analisis-de-texto-automatico/blob/main/Analisis_de_texto.ipynb\" target=\"_parent\"><img src=\"https://colab.research.google.com/assets/colab-badge.svg\" alt=\"Open In Colab\"/></a>"
      ]
    },
    {
      "cell_type": "markdown",
      "metadata": {
        "id": "McqIHScg7oCZ"
      },
      "source": [
        "#Analisis de texto (EPI)"
      ]
    },
    {
      "cell_type": "markdown",
      "metadata": {
        "id": "k-F3nSI8hTBH"
      },
      "source": [
        "## 1. Instalar librerias necesasiras y veificar version de Python"
      ]
    },
    {
      "cell_type": "code",
      "execution_count": null,
      "metadata": {
        "colab": {
          "base_uri": "https://localhost:8080/"
        },
        "id": "3JKoZAjx7m_3",
        "outputId": "2c940ad3-83e9-4f0d-8cad-3a55e7afa817"
      },
      "outputs": [
        {
          "name": "stdout",
          "output_type": "stream",
          "text": [
            "Python 3.10.12\n"
          ]
        }
      ],
      "source": [
        "# Version de python sobre la cual estamos trabajando\n",
        "!python --version"
      ]
    },
    {
      "cell_type": "code",
      "execution_count": null,
      "metadata": {
        "colab": {
          "base_uri": "https://localhost:8080/"
        },
        "id": "gVLjAP7M4c-H",
        "outputId": "455d1aa2-9707-40bf-8ba2-048dbdd205e3"
      },
      "outputs": [
        {
          "name": "stdout",
          "output_type": "stream",
          "text": [
            "Collecting googletrans==3.1.0a0\n",
            "  Downloading googletrans-3.1.0a0.tar.gz (19 kB)\n",
            "  Preparing metadata (setup.py) ... \u001b[?25l\u001b[?25hdone\n",
            "Collecting httpx==0.13.3 (from googletrans==3.1.0a0)\n",
            "  Downloading httpx-0.13.3-py3-none-any.whl (55 kB)\n",
            "\u001b[2K     \u001b[90m━━━━━━━━━━━━━━━━━━━━━━━━━━━━━━━━━━━━━━━━\u001b[0m \u001b[32m55.1/55.1 kB\u001b[0m \u001b[31m2.1 MB/s\u001b[0m eta \u001b[36m0:00:00\u001b[0m\n",
            "\u001b[?25hRequirement already satisfied: certifi in /usr/local/lib/python3.10/dist-packages (from httpx==0.13.3->googletrans==3.1.0a0) (2024.2.2)\n",
            "Collecting hstspreload (from httpx==0.13.3->googletrans==3.1.0a0)\n",
            "  Downloading hstspreload-2024.5.1-py3-none-any.whl (1.1 MB)\n",
            "\u001b[2K     \u001b[90m━━━━━━━━━━━━━━━━━━━━━━━━━━━━━━━━━━━━━━━━\u001b[0m \u001b[32m1.1/1.1 MB\u001b[0m \u001b[31m19.3 MB/s\u001b[0m eta \u001b[36m0:00:00\u001b[0m\n",
            "\u001b[?25hRequirement already satisfied: sniffio in /usr/local/lib/python3.10/dist-packages (from httpx==0.13.3->googletrans==3.1.0a0) (1.3.1)\n",
            "Collecting chardet==3.* (from httpx==0.13.3->googletrans==3.1.0a0)\n",
            "  Downloading chardet-3.0.4-py2.py3-none-any.whl (133 kB)\n",
            "\u001b[2K     \u001b[90m━━━━━━━━━━━━━━━━━━━━━━━━━━━━━━━━━━━━━━━━\u001b[0m \u001b[32m133.4/133.4 kB\u001b[0m \u001b[31m20.0 MB/s\u001b[0m eta \u001b[36m0:00:00\u001b[0m\n",
            "\u001b[?25hCollecting idna==2.* (from httpx==0.13.3->googletrans==3.1.0a0)\n",
            "  Downloading idna-2.10-py2.py3-none-any.whl (58 kB)\n",
            "\u001b[2K     \u001b[90m━━━━━━━━━━━━━━━━━━━━━━━━━━━━━━━━━━━━━━━━\u001b[0m \u001b[32m58.8/58.8 kB\u001b[0m \u001b[31m10.3 MB/s\u001b[0m eta \u001b[36m0:00:00\u001b[0m\n",
            "\u001b[?25hCollecting rfc3986<2,>=1.3 (from httpx==0.13.3->googletrans==3.1.0a0)\n",
            "  Downloading rfc3986-1.5.0-py2.py3-none-any.whl (31 kB)\n",
            "Collecting httpcore==0.9.* (from httpx==0.13.3->googletrans==3.1.0a0)\n",
            "  Downloading httpcore-0.9.1-py3-none-any.whl (42 kB)\n",
            "\u001b[2K     \u001b[90m━━━━━━━━━━━━━━━━━━━━━━━━━━━━━━━━━━━━━━━━\u001b[0m \u001b[32m42.6/42.6 kB\u001b[0m \u001b[31m6.9 MB/s\u001b[0m eta \u001b[36m0:00:00\u001b[0m\n",
            "\u001b[?25hCollecting h11<0.10,>=0.8 (from httpcore==0.9.*->httpx==0.13.3->googletrans==3.1.0a0)\n",
            "  Downloading h11-0.9.0-py2.py3-none-any.whl (53 kB)\n",
            "\u001b[2K     \u001b[90m━━━━━━━━━━━━━━━━━━━━━━━━━━━━━━━━━━━━━━━━\u001b[0m \u001b[32m53.6/53.6 kB\u001b[0m \u001b[31m8.8 MB/s\u001b[0m eta \u001b[36m0:00:00\u001b[0m\n",
            "\u001b[?25hCollecting h2==3.* (from httpcore==0.9.*->httpx==0.13.3->googletrans==3.1.0a0)\n",
            "  Downloading h2-3.2.0-py2.py3-none-any.whl (65 kB)\n",
            "\u001b[2K     \u001b[90m━━━━━━━━━━━━━━━━━━━━━━━━━━━━━━━━━━━━━━━━\u001b[0m \u001b[32m65.0/65.0 kB\u001b[0m \u001b[31m10.4 MB/s\u001b[0m eta \u001b[36m0:00:00\u001b[0m\n",
            "\u001b[?25hCollecting hyperframe<6,>=5.2.0 (from h2==3.*->httpcore==0.9.*->httpx==0.13.3->googletrans==3.1.0a0)\n",
            "  Downloading hyperframe-5.2.0-py2.py3-none-any.whl (12 kB)\n",
            "Collecting hpack<4,>=3.0 (from h2==3.*->httpcore==0.9.*->httpx==0.13.3->googletrans==3.1.0a0)\n",
            "  Downloading hpack-3.0.0-py2.py3-none-any.whl (38 kB)\n",
            "Building wheels for collected packages: googletrans\n",
            "  Building wheel for googletrans (setup.py) ... \u001b[?25l\u001b[?25hdone\n",
            "  Created wheel for googletrans: filename=googletrans-3.1.0a0-py3-none-any.whl size=16353 sha256=a9aa21c0b37907ea6ab59bc09b5e421fecd2d2808974026fca31c00085b576e2\n",
            "  Stored in directory: /root/.cache/pip/wheels/50/5d/3c/8477d0af4ca2b8b1308812c09f1930863caeebc762fe265a95\n",
            "Successfully built googletrans\n",
            "Installing collected packages: rfc3986, hyperframe, hpack, h11, chardet, idna, hstspreload, h2, httpcore, httpx, googletrans\n",
            "  Attempting uninstall: chardet\n",
            "    Found existing installation: chardet 5.2.0\n",
            "    Uninstalling chardet-5.2.0:\n",
            "      Successfully uninstalled chardet-5.2.0\n",
            "  Attempting uninstall: idna\n",
            "    Found existing installation: idna 3.7\n",
            "    Uninstalling idna-3.7:\n",
            "      Successfully uninstalled idna-3.7\n",
            "Successfully installed chardet-3.0.4 googletrans-3.1.0a0 h11-0.9.0 h2-3.2.0 hpack-3.0.0 hstspreload-2024.5.1 httpcore-0.9.1 httpx-0.13.3 hyperframe-5.2.0 idna-2.10 rfc3986-1.5.0\n"
          ]
        }
      ],
      "source": [
        "# Instalar el paquete 'googletrans' el cual proporciona una API para acceder a\n",
        "# Google Translate y traducir texto entre diferentes idiomas de forma programática.\n",
        "# La versión 3.1.0a0\n",
        "!pip install googletrans==3.1.0a0"
      ]
    },
    {
      "cell_type": "code",
      "execution_count": null,
      "metadata": {
        "colab": {
          "base_uri": "https://localhost:8080/"
        },
        "id": "LZfbS0NhCy33",
        "outputId": "f83d5c46-5e28-4306-eb2c-f37b76fbf6af"
      },
      "outputs": [
        {
          "name": "stdout",
          "output_type": "stream",
          "text": [
            "Collecting PyPDF2\n",
            "  Downloading pypdf2-3.0.1-py3-none-any.whl (232 kB)\n",
            "\u001b[2K     \u001b[90m━━━━━━━━━━━━━━━━━━━━━━━━━━━━━━━━━━━━━━━━\u001b[0m \u001b[32m232.6/232.6 kB\u001b[0m \u001b[31m4.0 MB/s\u001b[0m eta \u001b[36m0:00:00\u001b[0m\n",
            "\u001b[?25hInstalling collected packages: PyPDF2\n",
            "Successfully installed PyPDF2-3.0.1\n"
          ]
        }
      ],
      "source": [
        "# Instalar biblioteca que permite manipular archivos PDF\n",
        "!pip install PyPDF2"
      ]
    },
    {
      "cell_type": "code",
      "execution_count": null,
      "metadata": {
        "colab": {
          "base_uri": "https://localhost:8080/"
        },
        "id": "RQklBG_FyMPZ",
        "outputId": "9f6d7f3f-5c66-4228-d997-a2340f0a04ad"
      },
      "outputs": [
        {
          "name": "stdout",
          "output_type": "stream",
          "text": [
            "Collecting langdetect\n",
            "  Downloading langdetect-1.0.9.tar.gz (981 kB)\n",
            "\u001b[2K     \u001b[90m━━━━━━━━━━━━━━━━━━━━━━━━━━━━━━━━━━━━━━━━\u001b[0m \u001b[32m981.5/981.5 kB\u001b[0m \u001b[31m12.7 MB/s\u001b[0m eta \u001b[36m0:00:00\u001b[0m\n",
            "\u001b[?25h  Preparing metadata (setup.py) ... \u001b[?25l\u001b[?25hdone\n",
            "Requirement already satisfied: six in /usr/local/lib/python3.10/dist-packages (from langdetect) (1.16.0)\n",
            "Building wheels for collected packages: langdetect\n",
            "  Building wheel for langdetect (setup.py) ... \u001b[?25l\u001b[?25hdone\n",
            "  Created wheel for langdetect: filename=langdetect-1.0.9-py3-none-any.whl size=993227 sha256=6380b8d6d8f973af39fd36d3d041d1969d3b779e8b82a0d7ec654f16f9cf4626\n",
            "  Stored in directory: /root/.cache/pip/wheels/95/03/7d/59ea870c70ce4e5a370638b5462a7711ab78fba2f655d05106\n",
            "Successfully built langdetect\n",
            "Installing collected packages: langdetect\n",
            "Successfully installed langdetect-1.0.9\n"
          ]
        }
      ],
      "source": [
        "# Instalar biblioteca para la detección automática de idiomas de un texto\n",
        "!pip install langdetect"
      ]
    },
    {
      "cell_type": "code",
      "execution_count": null,
      "metadata": {
        "colab": {
          "base_uri": "https://localhost:8080/"
        },
        "id": "wXRO2gAJ-NDE",
        "outputId": "297a8711-b3ab-41a8-9e12-26df6a4aab03"
      },
      "outputs": [
        {
          "name": "stdout",
          "output_type": "stream",
          "text": [
            "Requirement already satisfied: numpy in /usr/local/lib/python3.10/dist-packages (1.25.2)\n",
            "Requirement already satisfied: matplotlib in /usr/local/lib/python3.10/dist-packages (3.7.1)\n",
            "Requirement already satisfied: scikit-learn in /usr/local/lib/python3.10/dist-packages (1.2.2)\n",
            "Requirement already satisfied: contourpy>=1.0.1 in /usr/local/lib/python3.10/dist-packages (from matplotlib) (1.2.1)\n",
            "Requirement already satisfied: cycler>=0.10 in /usr/local/lib/python3.10/dist-packages (from matplotlib) (0.12.1)\n",
            "Requirement already satisfied: fonttools>=4.22.0 in /usr/local/lib/python3.10/dist-packages (from matplotlib) (4.51.0)\n",
            "Requirement already satisfied: kiwisolver>=1.0.1 in /usr/local/lib/python3.10/dist-packages (from matplotlib) (1.4.5)\n",
            "Requirement already satisfied: packaging>=20.0 in /usr/local/lib/python3.10/dist-packages (from matplotlib) (24.0)\n",
            "Requirement already satisfied: pillow>=6.2.0 in /usr/local/lib/python3.10/dist-packages (from matplotlib) (9.4.0)\n",
            "Requirement already satisfied: pyparsing>=2.3.1 in /usr/local/lib/python3.10/dist-packages (from matplotlib) (3.1.2)\n",
            "Requirement already satisfied: python-dateutil>=2.7 in /usr/local/lib/python3.10/dist-packages (from matplotlib) (2.8.2)\n",
            "Requirement already satisfied: scipy>=1.3.2 in /usr/local/lib/python3.10/dist-packages (from scikit-learn) (1.11.4)\n",
            "Requirement already satisfied: joblib>=1.1.1 in /usr/local/lib/python3.10/dist-packages (from scikit-learn) (1.4.2)\n",
            "Requirement already satisfied: threadpoolctl>=2.0.0 in /usr/local/lib/python3.10/dist-packages (from scikit-learn) (3.5.0)\n",
            "Requirement already satisfied: six>=1.5 in /usr/local/lib/python3.10/dist-packages (from python-dateutil>=2.7->matplotlib) (1.16.0)\n"
          ]
        }
      ],
      "source": [
        "!pip install numpy matplotlib scikit-learn"
      ]
    },
    {
      "cell_type": "markdown",
      "metadata": {
        "id": "JlSuQgr_hkGB"
      },
      "source": [
        "## 2. Importar librerias necesarias"
      ]
    },
    {
      "cell_type": "code",
      "execution_count": null,
      "metadata": {
        "colab": {
          "base_uri": "https://localhost:8080/",
          "height": 35
        },
        "id": "6qx3ylIvCnrz",
        "outputId": "40cca1c9-d4b8-4332-db02-bd89137127ad"
      },
      "outputs": [
        {
          "data": {
            "application/vnd.google.colaboratory.intrinsic+json": {
              "type": "string"
            },
            "text/plain": [
              "'2.0.3'"
            ]
          },
          "execution_count": 6,
          "metadata": {},
          "output_type": "execute_result"
        }
      ],
      "source": [
        "import pandas as pd\n",
        "pd.__version__"
      ]
    },
    {
      "cell_type": "code",
      "execution_count": null,
      "metadata": {
        "id": "fMXTjpdBC8Kj"
      },
      "outputs": [],
      "source": [
        "import glob, os\n",
        "# glob: Se utiliza para realizar búsquedas de archivos usando patrones de nombres de archivo.\n",
        "#       Permite encontrar todos los archivos que coinciden con un patrón específico en un directorio.\n",
        "\n",
        "# os: Proporciona una interfaz para interactuar con el sistema operativo.\n",
        "#     Contiene funciones que permiten realizar operaciones comunes relacionadas con el sistema operativo,\n",
        "#     como manipulación de archivos y directorios, obtención de información del sistema, etc.\n",
        "\n",
        "import PyPDF2\n",
        "from prettytable import PrettyTable #Facilita la creación de tablas con columnas alineadas\n",
        "import csv #Permite escribir datos en archivos CSV\n",
        "import langdetect #Permite la detección automática de idiomas de un texto\n",
        "from googletrans import Translator, LANGUAGES #Permite la traducción de texto entre diferentes idiomas\n",
        "import nltk #Permite la manipulación y análisis de texto\n",
        "from nltk.util import ngrams #Permite generar n-gramas a partir de un texto\n",
        "from nltk.stem import WordNetLemmatizer #Permite la lematización de palabras\n",
        "import re #Permite realizar expresiones regulares\n",
        "from collections import Counter #Permite contar elementos en una lista o diccionario\n",
        "import numpy as np #Permite trabajar con matrices y operaciones numéricas\n",
        "import seaborn as sns #Permite la visualización de datos estadísticos"
      ]
    },
    {
      "cell_type": "markdown",
      "metadata": {
        "id": "pe7auv-EhvkJ"
      },
      "source": [
        "## 3. Concectar con Google Drive"
      ]
    },
    {
      "cell_type": "code",
      "execution_count": null,
      "metadata": {
        "colab": {
          "base_uri": "https://localhost:8080/"
        },
        "id": "X7chw9Z_DFRu",
        "outputId": "4991fa2f-48a2-4621-a7ba-e54bfff014fd"
      },
      "outputs": [
        {
          "name": "stdout",
          "output_type": "stream",
          "text": [
            "Mounted at /content/drive\n"
          ]
        }
      ],
      "source": [
        "from google.colab import drive\n",
        "drive.mount('/content/drive')"
      ]
    },
    {
      "cell_type": "markdown",
      "metadata": {
        "id": "Zm_1bDtakGJA"
      },
      "source": [
        "## 4. Buscar y listar todos los archivos con una extensión PDF en el directorio dado y sus subdirectorios."
      ]
    },
    {
      "cell_type": "markdown",
      "metadata": {
        "id": "RX7qvbldlCXs"
      },
      "source": [
        "1. Aquí, se especifica que se buscarán archivos con la extensión .pdf\n",
        "\n",
        "\n",
        "      ext = \"*.pdf\"\n",
        "\n",
        "\n",
        "2. PATH es la ruta al directorio raíz desde donde se comenzará la búsqueda de archivos. Que en este caso sera dentro del Drive en la carpeta de nombre ***Tesis Hugo y Juan Jose - Análisis texto - TD*** más especificamente en el subdirectorio ***Conjunto de Datos***\n",
        "3. Luego se usa ***'os.walk(PATH)'*** para recorrer todos los directorios y subdirectorios a partir de PATH. ***os.walk*** genera una tupla (dirpath, dirnames, filenames) para cada directorio recorrido:\n",
        "\n",
        "\n",
        "  *   ***dirpath*** es la ruta del directorio actual.\n",
        "  *   ***dirnames*** es una lista de los nombres de los subdirectorios en el directorio actual.\n",
        "  *  ***filenames*** es una lista de los nombres de los archivos en el directorio actual.\n",
        "\n",
        "Dentro del bucle, ***glob.glob(os.path.join(dirpath, ext))*** se utiliza para encontrar todos los archivos con la extensión especificada (.pdf) en el directorio actual (dirpath). Los archivos encontrados se añaden a la lista ***files***."
      ]
    },
    {
      "cell_type": "code",
      "execution_count": null,
      "metadata": {
        "id": "PIDNodP-A9YT"
      },
      "outputs": [],
      "source": [
        "# Extension de los archivos\n",
        "ext = \"*.pdf\"\n",
        "PATH = \"/content/drive/MyDrive/Tesis Hugo y Juan Jose - Análisis texto - TD/Conjunto de Datos\"\n",
        "\n",
        "# Lista de archivos\n",
        "files = []\n",
        "\n",
        "# Recorre todos los directorios y subdirectorios a partir de la ruta proporcionada\n",
        "for dirpath, dirnames, filenames in os.walk(PATH):\n",
        "    # Utiliza glob para obtener los archivos con la extensión especificada en cada directorio\n",
        "    files += glob.glob(os.path.join(dirpath, ext))"
      ]
    },
    {
      "cell_type": "markdown",
      "metadata": {
        "id": "8Re1IUEpntqQ"
      },
      "source": [
        "## 5. Contar archivos PDF por directorio y mostrar en una tabla"
      ]
    },
    {
      "cell_type": "markdown",
      "metadata": {
        "id": "DXjCpFTIoESf"
      },
      "source": [
        "El código tiene como objetivo contar el número de archivos PDF en cada directorio y subdirectorio dentro de la carpeta ***Conjunto de Datos***, y luego mostrar estos conteos en una tabla."
      ]
    },
    {
      "cell_type": "code",
      "execution_count": null,
      "metadata": {
        "colab": {
          "base_uri": "https://localhost:8080/"
        },
        "id": "dYRIrBlH06nR",
        "outputId": "4932d4d9-36d4-44c4-b03a-a4dd1d27460e"
      },
      "outputs": [
        {
          "name": "stdout",
          "output_type": "stream",
          "text": [
            "+--------------------------------------------------------------------------------------------------------------+----------+\n",
            "|                                                  Directorio                                                  | Archivos |\n",
            "+--------------------------------------------------------------------------------------------------------------+----------+\n",
            "|          /content/drive/MyDrive/Tesis Hugo y Juan Jose - Análisis texto - TD/Conjunto de Datos/Sage          |    59    |\n",
            "|         /content/drive/MyDrive/Tesis Hugo y Juan Jose - Análisis texto - TD/Conjunto de Datos/Scopus         |   120    |\n",
            "|      /content/drive/MyDrive/Tesis Hugo y Juan Jose - Análisis texto - TD/Conjunto de Datos/Scopus/RUSO       |    7     |\n",
            "|        /content/drive/MyDrive/Tesis Hugo y Juan Jose - Análisis texto - TD/Conjunto de Datos/Redalyc         |    28    |\n",
            "| /content/drive/MyDrive/Tesis Hugo y Juan Jose - Análisis texto - TD/Conjunto de Datos/Taylor _ Francis Group |    50    |\n",
            "|     /content/drive/MyDrive/Tesis Hugo y Juan Jose - Análisis texto - TD/Conjunto de Datos/ScienceDirect      |    8     |\n",
            "|         /content/drive/MyDrive/Tesis Hugo y Juan Jose - Análisis texto - TD/Conjunto de Datos/Otros          |    20    |\n",
            "+--------------------------------------------------------------------------------------------------------------+----------+\n",
            "\n",
            "Total de archivos: 292\n"
          ]
        }
      ],
      "source": [
        "# Inicializa un diccionario para llevar un conteo de archivos por directorio\n",
        "file_count_per_directory = {}\n",
        "\n",
        "# Itera sobre la lista de archivos para incrementar el contador por directorio\n",
        "for file in files:\n",
        "    directory = os.path.dirname(file) # Obtiene el directorio de cada archivo\n",
        "    file_count_per_directory[directory] = file_count_per_directory.get(directory, 0) + 1 #  Incrementa el contador por directorio en el diccionario\n",
        "\n",
        "# Crea una tabla para mostrar la cantidad de archivos por directorio\n",
        "table = PrettyTable()\n",
        "table.field_names = [\"Directorio\", \"Archivos\"]\n",
        "\n",
        "# Agrega las filas a la tabla\n",
        "for directory, count in file_count_per_directory.items():\n",
        "    table.add_row([directory, count])\n",
        "\n",
        "\n",
        "print(table)\n",
        "\n",
        "total_files = sum(file_count_per_directory.values())\n",
        "print(f\"\\nTotal de archivos: {total_files}\")"
      ]
    },
    {
      "cell_type": "code",
      "execution_count": null,
      "metadata": {
        "colab": {
          "base_uri": "https://localhost:8080/"
        },
        "id": "1YipILSHaIDZ",
        "outputId": "a4d4ba43-ad54-477c-ae99-e9dd6a5326a2"
      },
      "outputs": [
        {
          "data": {
            "image/png": "[encoded data removed]",
            "text/plain": [
              "<Figure size 1500x800 with 1 Axes>"
            ]
          },
          "metadata": {},
          "output_type": "display_data"
        },
        {
          "data": {
            "application/javascript": [
              "\n",
              "    async function download(id, filename, size) {\n",
              "      if (!google.colab.kernel.accessAllowed) {\n",
              "        return;\n",
              "      }\n",
              "      const div = document.createElement('div');\n",
              "      const label = document.createElement('label');\n",
              "      label.textContent = `Downloading \"${filename}\": `;\n",
              "      div.appendChild(label);\n",
              "      const progress = document.createElement('progress');\n",
              "      progress.max = size;\n",
              "      div.appendChild(progress);\n",
              "      document.body.appendChild(div);\n",
              "\n",
              "      const buffers = [];\n",
              "      let downloaded = 0;\n",
              "\n",
              "      const channel = await google.colab.kernel.comms.open(id);\n",
              "      // Send a message to notify the kernel that we're ready.\n",
              "      channel.send({})\n",
              "\n",
              "      for await (const message of channel.messages) {\n",
              "        // Send a message to notify the kernel that we're ready.\n",
              "        channel.send({})\n",
              "        if (message.buffers) {\n",
              "          for (const buffer of message.buffers) {\n",
              "            buffers.push(buffer);\n",
              "            downloaded += buffer.byteLength;\n",
              "            progress.value = downloaded;\n",
              "          }\n",
              "        }\n",
              "      }\n",
              "      const blob = new Blob(buffers, {type: 'application/binary'});\n",
              "      const a = document.createElement('a');\n",
              "      a.href = window.URL.createObjectURL(blob);\n",
              "      a.download = filename;\n",
              "      div.appendChild(a);\n",
              "      a.click();\n",
              "      div.remove();\n",
              "    }\n",
              "  "
            ],
            "text/plain": [
              "<IPython.core.display.Javascript object>"
            ]
          },
          "metadata": {},
          "output_type": "display_data"
        },
        {
          "data": {
            "application/javascript": [
              "download(\"download_24abcac1-bfb7-4740-96ff-9f6bdff8a170\", \"grafico_pastel.png\", 2396)"
            ],
            "text/plain": [
              "<IPython.core.display.Javascript object>"
            ]
          },
          "metadata": {},
          "output_type": "display_data"
        },
        {
          "data": {
            "text/plain": [
              "<Figure size 640x480 with 0 Axes>"
            ]
          },
          "metadata": {},
          "output_type": "display_data"
        }
      ],
      "source": [
        "# grafico de pastel\n",
        "\n",
        "import matplotlib.pyplot as plt\n",
        "\n",
        "# Obtener las etiquetas de las carpetas\n",
        "carpetas = list(file_count_per_directory.keys())\n",
        "carpetas_simples = [os.path.basename(x) for x in carpetas]\n",
        "\n",
        "# Obtener los conteos de archivos\n",
        "conteos = list(file_count_per_directory.values())\n",
        "\n",
        "# Crear el gráfico de pastel\n",
        "plt.figure(figsize=(15, 8))\n",
        "plt.pie(conteos, labels=carpetas_simples, autopct=\"%1.1f%%\")\n",
        "plt.title(\"Distribución de archivos por carpeta\")\n",
        "plt.show()\n",
        "plt.savefig('grafico_pastel.png')\n",
        "# Descarga la imagen png\n",
        "from google.colab import files\n",
        "files.download('grafico_pastel.png')"
      ]
    },
    {
      "cell_type": "markdown",
      "metadata": {
        "id": "NN6YxDK3okLm"
      },
      "source": [
        "## 6. Manipulación de la Metadata de los archivos PDF"
      ]
    },
    {
      "cell_type": "code",
      "execution_count": null,
      "metadata": {
        "colab": {
          "base_uri": "https://localhost:8080/"
        },
        "id": "RmaAaIC1EI8j",
        "outputId": "afc175c2-bff5-4348-dee1-340f34393d1c"
      },
      "outputs": [
        {
          "name": "stdout",
          "output_type": "stream",
          "text": [
            "Información del archivo:\n",
            "Nombre: A mapping analysis of maintenance in Industry 4,0.pdf\n",
            "Ruta completa: /content/drive/MyDrive/Tesis Hugo y Juan Jose - Análisis texto - TD/Conjunto de Datos/Redalyc/A mapping analysis of maintenance in Industry 4,0.pdf\n",
            "Directorio: /content/drive/MyDrive/Tesis Hugo y Juan Jose - Análisis texto - TD/Conjunto de Datos/Redalyc\n",
            "Tamaño: 785.833984375 Megabytes\n",
            "Número de páginas: 24\n"
          ]
        }
      ],
      "source": [
        "#Probar con la metadata de un archivo especifico\n",
        "archivo_a_analizar = \"/content/drive/MyDrive/Tesis Hugo y Juan Jose - Análisis texto - TD/Conjunto de Datos/Redalyc/A mapping analysis of maintenance in Industry 4,0.pdf\"\n",
        "\n",
        "\n",
        "# Verifica si el archivo existe\n",
        "if os.path.exists(archivo_a_analizar):\n",
        "    # Obtiene información del archivo\n",
        "    nombre_archivo = os.path.basename(archivo_a_analizar)\n",
        "    directorio_archivo = os.path.dirname(archivo_a_analizar)\n",
        "    tamaño_archivo = os.path.getsize(archivo_a_analizar)  # en bytes\n",
        "\n",
        "\n",
        "    # Obtiene el número de páginas del archivo PDF\n",
        "    with open(archivo_a_analizar, 'rb') as pdf_file:\n",
        "        pdf_reader = PyPDF2.PdfReader(pdf_file)\n",
        "        numero_de_paginas = len(pdf_reader.pages)\n",
        "\n",
        "    # Muestra la información del archivo\n",
        "    print(\"Información del archivo:\")\n",
        "    print(f\"Nombre: {nombre_archivo}\")\n",
        "    print(f\"Ruta completa: {archivo_a_analizar}\")\n",
        "    print(f\"Directorio: {directorio_archivo}\")\n",
        "    print(f\"Tamaño: {tamaño_archivo/1024} Megabytes\")\n",
        "    print(f\"Número de páginas: {numero_de_paginas}\")\n",
        "else:\n",
        "    print(f\"El archivo {archivo_a_analizar} no existe.\")"
      ]
    },
    {
      "cell_type": "code",
      "execution_count": null,
      "metadata": {
        "id": "RMluc81zT5a7"
      },
      "outputs": [],
      "source": [
        "# Crear una archivo CSV donde se almacenara la metada de los archivos pdf\n",
        "# inicializar un archivo CSV\n",
        "with open('metadata.csv', 'w', newline='') as csvfile:\n",
        "    # Definir los nombres de las columnas (encabezados)\n",
        "    fieldnames = ['Nombre del archivo', 'Ruta del archivo', 'Peso del archivo', 'Cantidad de páginas', 'Autores']\n",
        "    # Crear un objeto DictWriter para escribir en el archivo CSV\n",
        "    writer = csv.DictWriter(csvfile, fieldnames=fieldnames)\n",
        "    # Escribir los encabezados en la primera fila del archivo CSV\n",
        "    writer.writeheader()\n",
        "\n",
        "    # Iterar sobre cada archivo (sobre la lista llamada 'files' definida previamente)\n",
        "    for file in files:\n",
        "        # Obtener el nombre del archivo\n",
        "        file_name = os.path.basename(file)\n",
        "\n",
        "        # Obtener la ruta del archivo\n",
        "        file_path = file\n",
        "\n",
        "        # Obtener el tamaño del archivo\n",
        "        file_size = os.path.getsize(file)\n",
        "\n",
        "        # Obtener el número de páginas en el archivo PDF\n",
        "        with open(file, 'rb') as f:\n",
        "            pdf_reader = PyPDF2.PdfReader(f)\n",
        "            num_pages = len(pdf_reader.pages)\n",
        "\n",
        "         # Obtener los autores del archivo PDF\n",
        "        pdf_reader = PyPDF2.PdfReader(open(file, 'rb'))\n",
        "        info = pdf_reader.metadata\n",
        "        authors = info.author\n",
        "\n",
        "        # Write the metadata to the CSV file\n",
        "        writer.writerow({\n",
        "            'Nombre del archivo': file_name,\n",
        "            'Ruta del archivo': file_path,\n",
        "            'Peso del archivo': file_size,\n",
        "            'Cantidad de páginas': num_pages,\n",
        "            'Autores': authors\n",
        "        })"
      ]
    },
    {
      "cell_type": "code",
      "execution_count": null,
      "metadata": {
        "colab": {
          "base_uri": "https://localhost:8080/"
        },
        "id": "dBrbO27BhryY",
        "outputId": "6163063a-8033-4133-8dc8-349536365e94"
      },
      "outputs": [
        {
          "data": {
            "application/vnd.google.colaboratory.intrinsic+json": {
              "summary": "{\n  \"name\": \"dataset\",\n  \"rows\": 292,\n  \"fields\": [\n    {\n      \"column\": \"Nombre del archivo\",\n      \"properties\": {\n        \"dtype\": \"string\",\n        \"num_unique_values\": 292,\n        \"samples\": [\n          \"Cloud service as the driver for university_s software engineering programs digital transformation.pdf\",\n          \"Instructional designers  shifting thinking about supporting teaching during and post-COVID-19.pdf\",\n          \"celik-et-al-2022-response-of-learning-analytics-to-the-online-education-challenges-during-pandemic-opportunities-and.pdf\"\n        ],\n        \"semantic_type\": \"\",\n        \"description\": \"\"\n      }\n    },\n    {\n      \"column\": \"Ruta del archivo\",\n      \"properties\": {\n        \"dtype\": \"string\",\n        \"num_unique_values\": 292,\n        \"samples\": [\n          \"/content/drive/MyDrive/Tesis Hugo y Juan Jose - An\\u00e1lisis texto - TD/Conjunto de Datos/Scopus/Cloud service as the driver for university_s software engineering programs digital transformation.pdf\",\n          \"/content/drive/MyDrive/Tesis Hugo y Juan Jose - An\\u00e1lisis texto - TD/Conjunto de Datos/Taylor _ Francis Group/Instructional designers  shifting thinking about supporting teaching during and post-COVID-19.pdf\",\n          \"/content/drive/MyDrive/Tesis Hugo y Juan Jose - An\\u00e1lisis texto - TD/Conjunto de Datos/Sage/celik-et-al-2022-response-of-learning-analytics-to-the-online-education-challenges-during-pandemic-opportunities-and.pdf\"\n        ],\n        \"semantic_type\": \"\",\n        \"description\": \"\"\n      }\n    },\n    {\n      \"column\": \"Peso del archivo\",\n      \"properties\": {\n        \"dtype\": \"number\",\n        \"std\": 2090905,\n        \"min\": 121502,\n        \"max\": 24147148,\n        \"num_unique_values\": 290,\n        \"samples\": [\n          731026,\n          888678,\n          586882\n        ],\n        \"semantic_type\": \"\",\n        \"description\": \"\"\n      }\n    },\n    {\n      \"column\": \"Cantidad de p\\u00e1ginas\",\n      \"properties\": {\n        \"dtype\": \"number\",\n        \"std\": 37,\n        \"min\": 3,\n        \"max\": 634,\n        \"num_unique_values\": 38,\n        \"samples\": [\n          25,\n          52,\n          32\n        ],\n        \"semantic_type\": \"\",\n        \"description\": \"\"\n      }\n    },\n    {\n      \"column\": \"Autores\",\n      \"properties\": {\n        \"dtype\": \"string\",\n        \"num_unique_values\": 148,\n        \"samples\": [\n          \"Bokolo Anthony Jnr\",\n          \"Neil Hughes\",\n          \"End User Computing Services\"\n        ],\n        \"semantic_type\": \"\",\n        \"description\": \"\"\n      }\n    }\n  ]\n}",
              "type": "dataframe",
              "variable_name": "dataset"
            },
            "text/html": [
              "\n",
              "  <div id=\"df-c48cdbd9-15b8-4fde-9320-7299179e5f4f\" class=\"colab-df-container\">\n",
              "    <div>\n",
              "<style scoped>\n",
              "    .dataframe tbody tr th:only-of-type {\n",
              "        vertical-align: middle;\n",
              "    }\n",
              "\n",
              "    .dataframe tbody tr th {\n",
              "        vertical-align: top;\n",
              "    }\n",
              "\n",
              "    .dataframe thead th {\n",
              "        text-align: right;\n",
              "    }\n",
              "</style>\n",
              "<table border=\"1\" class=\"dataframe\">\n",
              "  <thead>\n",
              "    <tr style=\"text-align: right;\">\n",
              "      <th></th>\n",
              "      <th>Nombre del archivo</th>\n",
              "      <th>Ruta del archivo</th>\n",
              "      <th>Peso del archivo</th>\n",
              "      <th>Cantidad de páginas</th>\n",
              "      <th>Autores</th>\n",
              "    </tr>\n",
              "  </thead>\n",
              "  <tbody>\n",
              "    <tr>\n",
              "      <th>0</th>\n",
              "      <td>mampaso-desbrow-et-al-2023-self-perception-of-...</td>\n",
              "      <td>/content/drive/MyDrive/Tesis Hugo y Juan Jose ...</td>\n",
              "      <td>567051</td>\n",
              "      <td>17</td>\n",
              "      <td>Joanne Mampaso Desbrow, Ángel Vicario-Merino, ...</td>\n",
              "    </tr>\n",
              "    <tr>\n",
              "      <th>1</th>\n",
              "      <td>nguyen-et-al-2023-higher-education-policy-and-...</td>\n",
              "      <td>/content/drive/MyDrive/Tesis Hugo y Juan Jose ...</td>\n",
              "      <td>496626</td>\n",
              "      <td>5</td>\n",
              "      <td>Andy Nguyen, Ly Tran, and Bich-Hang Duong</td>\n",
              "    </tr>\n",
              "    <tr>\n",
              "      <th>2</th>\n",
              "      <td>keiper-et-al-2023-marketing-analytics-curricul...</td>\n",
              "      <td>/content/drive/MyDrive/Tesis Hugo y Juan Jose ...</td>\n",
              "      <td>698226</td>\n",
              "      <td>14</td>\n",
              "      <td>Margaret C. Keiper, Jon Nachtigal, Joshua M. L...</td>\n",
              "    </tr>\n",
              "    <tr>\n",
              "      <th>3</th>\n",
              "      <td>ye-et-al-2023-digital-marketing-and-analytics-...</td>\n",
              "      <td>/content/drive/MyDrive/Tesis Hugo y Juan Jose ...</td>\n",
              "      <td>356306</td>\n",
              "      <td>13</td>\n",
              "      <td>Christine Ye, Yuna Kim, and Yoon-Na Cho</td>\n",
              "    </tr>\n",
              "    <tr>\n",
              "      <th>4</th>\n",
              "      <td>allen-2020-on-the-cutting-edge-or-the-chopping...</td>\n",
              "      <td>/content/drive/MyDrive/Tesis Hugo y Juan Jose ...</td>\n",
              "      <td>161099</td>\n",
              "      <td>32</td>\n",
              "      <td>Scott J. Allen</td>\n",
              "    </tr>\n",
              "  </tbody>\n",
              "</table>\n",
              "</div>\n",
              "    <div class=\"colab-df-buttons\">\n",
              "\n",
              "  <div class=\"colab-df-container\">\n",
              "    <button class=\"colab-df-convert\" onclick=\"convertToInteractive('df-c48cdbd9-15b8-4fde-9320-7299179e5f4f')\"\n",
              "            title=\"Convert this dataframe to an interactive table.\"\n",
              "            style=\"display:none;\">\n",
              "\n",
              "  <svg xmlns=\"http://www.w3.org/2000/svg\" height=\"24px\" viewBox=\"0 -960 960 960\">\n",
              "    <path d=\"M120-120v-720h720v720H120Zm60-500h600v-160H180v160Zm220 220h160v-160H400v160Zm0 220h160v-160H400v160ZM180-400h160v-160H180v160Zm440 0h160v-160H620v160ZM180-180h160v-160H180v160Zm440 0h160v-160H620v160Z\"/>\n",
              "  </svg>\n",
              "    </button>\n",
              "\n",
              "  <style>\n",
              "    .colab-df-container {\n",
              "      display:flex;\n",
              "      gap: 12px;\n",
              "    }\n",
              "\n",
              "    .colab-df-convert {\n",
              "      background-color: #E8F0FE;\n",
              "      border: none;\n",
              "      border-radius: 50%;\n",
              "      cursor: pointer;\n",
              "      display: none;\n",
              "      fill: #1967D2;\n",
              "      height: 32px;\n",
              "      padding: 0 0 0 0;\n",
              "      width: 32px;\n",
              "    }\n",
              "\n",
              "    .colab-df-convert:hover {\n",
              "      background-color: #E2EBFA;\n",
              "      box-shadow: 0px 1px 2px rgba(60, 64, 67, 0.3), 0px 1px 3px 1px rgba(60, 64, 67, 0.15);\n",
              "      fill: #174EA6;\n",
              "    }\n",
              "\n",
              "    .colab-df-buttons div {\n",
              "      margin-bottom: 4px;\n",
              "    }\n",
              "\n",
              "    [theme=dark] .colab-df-convert {\n",
              "      background-color: #3B4455;\n",
              "      fill: #D2E3FC;\n",
              "    }\n",
              "\n",
              "    [theme=dark] .colab-df-convert:hover {\n",
              "      background-color: #434B5C;\n",
              "      box-shadow: 0px 1px 3px 1px rgba(0, 0, 0, 0.15);\n",
              "      filter: drop-shadow(0px 1px 2px rgba(0, 0, 0, 0.3));\n",
              "      fill: #FFFFFF;\n",
              "    }\n",
              "  </style>\n",
              "\n",
              "    <script>\n",
              "      const buttonEl =\n",
              "        document.querySelector('#df-c48cdbd9-15b8-4fde-9320-7299179e5f4f button.colab-df-convert');\n",
              "      buttonEl.style.display =\n",
              "        google.colab.kernel.accessAllowed ? 'block' : 'none';\n",
              "\n",
              "      async function convertToInteractive(key) {\n",
              "        const element = document.querySelector('#df-c48cdbd9-15b8-4fde-9320-7299179e5f4f');\n",
              "        const dataTable =\n",
              "          await google.colab.kernel.invokeFunction('convertToInteractive',\n",
              "                                                    [key], {});\n",
              "        if (!dataTable) return;\n",
              "\n",
              "        const docLinkHtml = 'Like what you see? Visit the ' +\n",
              "          '<a target=\"_blank\" href=https://colab.research.google.com/notebooks/data_table.ipynb>data table notebook</a>'\n",
              "          + ' to learn more about interactive tables.';\n",
              "        element.innerHTML = '';\n",
              "        dataTable['output_type'] = 'display_data';\n",
              "        await google.colab.output.renderOutput(dataTable, element);\n",
              "        const docLink = document.createElement('div');\n",
              "        docLink.innerHTML = docLinkHtml;\n",
              "        element.appendChild(docLink);\n",
              "      }\n",
              "    </script>\n",
              "  </div>\n",
              "\n",
              "\n",
              "<div id=\"df-e5371fb2-0e1c-4367-b9eb-8ffe6c860ee8\">\n",
              "  <button class=\"colab-df-quickchart\" onclick=\"quickchart('df-e5371fb2-0e1c-4367-b9eb-8ffe6c860ee8')\"\n",
              "            title=\"Suggest charts\"\n",
              "            style=\"display:none;\">\n",
              "\n",
              "<svg xmlns=\"http://www.w3.org/2000/svg\" height=\"24px\"viewBox=\"0 0 24 24\"\n",
              "     width=\"24px\">\n",
              "    <g>\n",
              "        <path d=\"M19 3H5c-1.1 0-2 .9-2 2v14c0 1.1.9 2 2 2h14c1.1 0 2-.9 2-2V5c0-1.1-.9-2-2-2zM9 17H7v-7h2v7zm4 0h-2V7h2v10zm4 0h-2v-4h2v4z\"/>\n",
              "    </g>\n",
              "</svg>\n",
              "  </button>\n",
              "\n",
              "<style>\n",
              "  .colab-df-quickchart {\n",
              "      --bg-color: #E8F0FE;\n",
              "      --fill-color: #1967D2;\n",
              "      --hover-bg-color: #E2EBFA;\n",
              "      --hover-fill-color: #174EA6;\n",
              "      --disabled-fill-color: #AAA;\n",
              "      --disabled-bg-color: #DDD;\n",
              "  }\n",
              "\n",
              "  [theme=dark] .colab-df-quickchart {\n",
              "      --bg-color: #3B4455;\n",
              "      --fill-color: #D2E3FC;\n",
              "      --hover-bg-color: #434B5C;\n",
              "      --hover-fill-color: #FFFFFF;\n",
              "      --disabled-bg-color: #3B4455;\n",
              "      --disabled-fill-color: #666;\n",
              "  }\n",
              "\n",
              "  .colab-df-quickchart {\n",
              "    background-color: var(--bg-color);\n",
              "    border: none;\n",
              "    border-radius: 50%;\n",
              "    cursor: pointer;\n",
              "    display: none;\n",
              "    fill: var(--fill-color);\n",
              "    height: 32px;\n",
              "    padding: 0;\n",
              "    width: 32px;\n",
              "  }\n",
              "\n",
              "  .colab-df-quickchart:hover {\n",
              "    background-color: var(--hover-bg-color);\n",
              "    box-shadow: 0 1px 2px rgba(60, 64, 67, 0.3), 0 1px 3px 1px rgba(60, 64, 67, 0.15);\n",
              "    fill: var(--button-hover-fill-color);\n",
              "  }\n",
              "\n",
              "  .colab-df-quickchart-complete:disabled,\n",
              "  .colab-df-quickchart-complete:disabled:hover {\n",
              "    background-color: var(--disabled-bg-color);\n",
              "    fill: var(--disabled-fill-color);\n",
              "    box-shadow: none;\n",
              "  }\n",
              "\n",
              "  .colab-df-spinner {\n",
              "    border: 2px solid var(--fill-color);\n",
              "    border-color: transparent;\n",
              "    border-bottom-color: var(--fill-color);\n",
              "    animation:\n",
              "      spin 1s steps(1) infinite;\n",
              "  }\n",
              "\n",
              "  @keyframes spin {\n",
              "    0% {\n",
              "      border-color: transparent;\n",
              "      border-bottom-color: var(--fill-color);\n",
              "      border-left-color: var(--fill-color);\n",
              "    }\n",
              "    20% {\n",
              "      border-color: transparent;\n",
              "      border-left-color: var(--fill-color);\n",
              "      border-top-color: var(--fill-color);\n",
              "    }\n",
              "    30% {\n",
              "      border-color: transparent;\n",
              "      border-left-color: var(--fill-color);\n",
              "      border-top-color: var(--fill-color);\n",
              "      border-right-color: var(--fill-color);\n",
              "    }\n",
              "    40% {\n",
              "      border-color: transparent;\n",
              "      border-right-color: var(--fill-color);\n",
              "      border-top-color: var(--fill-color);\n",
              "    }\n",
              "    60% {\n",
              "      border-color: transparent;\n",
              "      border-right-color: var(--fill-color);\n",
              "    }\n",
              "    80% {\n",
              "      border-color: transparent;\n",
              "      border-right-color: var(--fill-color);\n",
              "      border-bottom-color: var(--fill-color);\n",
              "    }\n",
              "    90% {\n",
              "      border-color: transparent;\n",
              "      border-bottom-color: var(--fill-color);\n",
              "    }\n",
              "  }\n",
              "</style>\n",
              "\n",
              "  <script>\n",
              "    async function quickchart(key) {\n",
              "      const quickchartButtonEl =\n",
              "        document.querySelector('#' + key + ' button');\n",
              "      quickchartButtonEl.disabled = true;  // To prevent multiple clicks.\n",
              "      quickchartButtonEl.classList.add('colab-df-spinner');\n",
              "      try {\n",
              "        const charts = await google.colab.kernel.invokeFunction(\n",
              "            'suggestCharts', [key], {});\n",
              "      } catch (error) {\n",
              "        console.error('Error during call to suggestCharts:', error);\n",
              "      }\n",
              "      quickchartButtonEl.classList.remove('colab-df-spinner');\n",
              "      quickchartButtonEl.classList.add('colab-df-quickchart-complete');\n",
              "    }\n",
              "    (() => {\n",
              "      let quickchartButtonEl =\n",
              "        document.querySelector('#df-e5371fb2-0e1c-4367-b9eb-8ffe6c860ee8 button');\n",
              "      quickchartButtonEl.style.display =\n",
              "        google.colab.kernel.accessAllowed ? 'block' : 'none';\n",
              "    })();\n",
              "  </script>\n",
              "</div>\n",
              "\n",
              "    </div>\n",
              "  </div>\n"
            ],
            "text/plain": [
              "                                  Nombre del archivo  \\\n",
              "0  mampaso-desbrow-et-al-2023-self-perception-of-...   \n",
              "1  nguyen-et-al-2023-higher-education-policy-and-...   \n",
              "2  keiper-et-al-2023-marketing-analytics-curricul...   \n",
              "3  ye-et-al-2023-digital-marketing-and-analytics-...   \n",
              "4  allen-2020-on-the-cutting-edge-or-the-chopping...   \n",
              "\n",
              "                                    Ruta del archivo  Peso del archivo  \\\n",
              "0  /content/drive/MyDrive/Tesis Hugo y Juan Jose ...            567051   \n",
              "1  /content/drive/MyDrive/Tesis Hugo y Juan Jose ...            496626   \n",
              "2  /content/drive/MyDrive/Tesis Hugo y Juan Jose ...            698226   \n",
              "3  /content/drive/MyDrive/Tesis Hugo y Juan Jose ...            356306   \n",
              "4  /content/drive/MyDrive/Tesis Hugo y Juan Jose ...            161099   \n",
              "\n",
              "   Cantidad de páginas                                            Autores  \n",
              "0                   17  Joanne Mampaso Desbrow, Ángel Vicario-Merino, ...  \n",
              "1                    5          Andy Nguyen, Ly Tran, and Bich-Hang Duong  \n",
              "2                   14  Margaret C. Keiper, Jon Nachtigal, Joshua M. L...  \n",
              "3                   13            Christine Ye, Yuna Kim, and Yoon-Na Cho  \n",
              "4                   32                                     Scott J. Allen  "
            ]
          },
          "execution_count": 126,
          "metadata": {},
          "output_type": "execute_result"
        }
      ],
      "source": [
        "dataset = pd.read_csv(r'metadata.csv')\n",
        "# mostramos las cinco primeras filas\n",
        "dataset.head()"
      ]
    },
    {
      "cell_type": "code",
      "execution_count": null,
      "metadata": {
        "colab": {
          "base_uri": "https://localhost:8080/"
        },
        "id": "2TOkxIB_ipHw",
        "outputId": "3e401898-42c8-4ef5-d1ab-3c8277d8228c"
      },
      "outputs": [
        {
          "data": {
            "text/plain": [
              "(292, 5)"
            ]
          },
          "execution_count": 127,
          "metadata": {},
          "output_type": "execute_result"
        }
      ],
      "source": [
        "# mostramos la cantidad de filas que tiene y la cantidad de columnas\n",
        "dataset.shape"
      ]
    },
    {
      "cell_type": "code",
      "execution_count": null,
      "metadata": {
        "colab": {
          "base_uri": "https://localhost:8080/"
        },
        "id": "JA75eravixf8",
        "outputId": "9ec1bd4f-9c03-46c2-c967-7b3b15c26ab1"
      },
      "outputs": [
        {
          "data": {
            "application/vnd.google.colaboratory.intrinsic+json": {
              "summary": "{\n  \"name\": \"dataset\",\n  \"rows\": 292,\n  \"fields\": [\n    {\n      \"column\": \"Nombre del archivo\",\n      \"properties\": {\n        \"dtype\": \"string\",\n        \"num_unique_values\": 292,\n        \"samples\": [\n          \"Cloud service as the driver for university_s software engineering programs digital transformation.pdf\",\n          \"Instructional designers  shifting thinking about supporting teaching during and post-COVID-19.pdf\",\n          \"celik-et-al-2022-response-of-learning-analytics-to-the-online-education-challenges-during-pandemic-opportunities-and.pdf\"\n        ],\n        \"semantic_type\": \"\",\n        \"description\": \"\"\n      }\n    },\n    {\n      \"column\": \"Ruta del archivo\",\n      \"properties\": {\n        \"dtype\": \"string\",\n        \"num_unique_values\": 292,\n        \"samples\": [\n          \"/content/drive/MyDrive/Tesis Hugo y Juan Jose - An\\u00e1lisis texto - TD/Conjunto de Datos/Scopus/Cloud service as the driver for university_s software engineering programs digital transformation.pdf\",\n          \"/content/drive/MyDrive/Tesis Hugo y Juan Jose - An\\u00e1lisis texto - TD/Conjunto de Datos/Taylor _ Francis Group/Instructional designers  shifting thinking about supporting teaching during and post-COVID-19.pdf\",\n          \"/content/drive/MyDrive/Tesis Hugo y Juan Jose - An\\u00e1lisis texto - TD/Conjunto de Datos/Sage/celik-et-al-2022-response-of-learning-analytics-to-the-online-education-challenges-during-pandemic-opportunities-and.pdf\"\n        ],\n        \"semantic_type\": \"\",\n        \"description\": \"\"\n      }\n    },\n    {\n      \"column\": \"Peso del archivo\",\n      \"properties\": {\n        \"dtype\": \"number\",\n        \"std\": 2090905,\n        \"min\": 121502,\n        \"max\": 24147148,\n        \"num_unique_values\": 290,\n        \"samples\": [\n          731026,\n          888678,\n          586882\n        ],\n        \"semantic_type\": \"\",\n        \"description\": \"\"\n      }\n    },\n    {\n      \"column\": \"Cantidad de p\\u00e1ginas\",\n      \"properties\": {\n        \"dtype\": \"number\",\n        \"std\": 37,\n        \"min\": 3,\n        \"max\": 634,\n        \"num_unique_values\": 38,\n        \"samples\": [\n          25,\n          52,\n          32\n        ],\n        \"semantic_type\": \"\",\n        \"description\": \"\"\n      }\n    },\n    {\n      \"column\": \"Autores\",\n      \"properties\": {\n        \"dtype\": \"string\",\n        \"num_unique_values\": 148,\n        \"samples\": [\n          \"Bokolo Anthony Jnr\",\n          \"Neil Hughes\",\n          \"End User Computing Services\"\n        ],\n        \"semantic_type\": \"\",\n        \"description\": \"\"\n      }\n    }\n  ]\n}",
              "type": "dataframe",
              "variable_name": "dataset"
            },
            "text/html": [
              "\n",
              "  <div id=\"df-83125ecd-6e60-4043-bc23-061af1ba732b\" class=\"colab-df-container\">\n",
              "    <div>\n",
              "<style scoped>\n",
              "    .dataframe tbody tr th:only-of-type {\n",
              "        vertical-align: middle;\n",
              "    }\n",
              "\n",
              "    .dataframe tbody tr th {\n",
              "        vertical-align: top;\n",
              "    }\n",
              "\n",
              "    .dataframe thead th {\n",
              "        text-align: right;\n",
              "    }\n",
              "</style>\n",
              "<table border=\"1\" class=\"dataframe\">\n",
              "  <thead>\n",
              "    <tr style=\"text-align: right;\">\n",
              "      <th></th>\n",
              "      <th>Nombre del archivo</th>\n",
              "      <th>Ruta del archivo</th>\n",
              "      <th>Peso del archivo</th>\n",
              "      <th>Cantidad de páginas</th>\n",
              "      <th>Autores</th>\n",
              "    </tr>\n",
              "  </thead>\n",
              "  <tbody>\n",
              "    <tr>\n",
              "      <th>0</th>\n",
              "      <td>mampaso-desbrow-et-al-2023-self-perception-of-...</td>\n",
              "      <td>/content/drive/MyDrive/Tesis Hugo y Juan Jose ...</td>\n",
              "      <td>567051</td>\n",
              "      <td>17</td>\n",
              "      <td>Joanne Mampaso Desbrow, Ángel Vicario-Merino, ...</td>\n",
              "    </tr>\n",
              "    <tr>\n",
              "      <th>1</th>\n",
              "      <td>nguyen-et-al-2023-higher-education-policy-and-...</td>\n",
              "      <td>/content/drive/MyDrive/Tesis Hugo y Juan Jose ...</td>\n",
              "      <td>496626</td>\n",
              "      <td>5</td>\n",
              "      <td>Andy Nguyen, Ly Tran, and Bich-Hang Duong</td>\n",
              "    </tr>\n",
              "    <tr>\n",
              "      <th>2</th>\n",
              "      <td>keiper-et-al-2023-marketing-analytics-curricul...</td>\n",
              "      <td>/content/drive/MyDrive/Tesis Hugo y Juan Jose ...</td>\n",
              "      <td>698226</td>\n",
              "      <td>14</td>\n",
              "      <td>Margaret C. Keiper, Jon Nachtigal, Joshua M. L...</td>\n",
              "    </tr>\n",
              "    <tr>\n",
              "      <th>3</th>\n",
              "      <td>ye-et-al-2023-digital-marketing-and-analytics-...</td>\n",
              "      <td>/content/drive/MyDrive/Tesis Hugo y Juan Jose ...</td>\n",
              "      <td>356306</td>\n",
              "      <td>13</td>\n",
              "      <td>Christine Ye, Yuna Kim, and Yoon-Na Cho</td>\n",
              "    </tr>\n",
              "    <tr>\n",
              "      <th>4</th>\n",
              "      <td>allen-2020-on-the-cutting-edge-or-the-chopping...</td>\n",
              "      <td>/content/drive/MyDrive/Tesis Hugo y Juan Jose ...</td>\n",
              "      <td>161099</td>\n",
              "      <td>32</td>\n",
              "      <td>Scott J. Allen</td>\n",
              "    </tr>\n",
              "    <tr>\n",
              "      <th>...</th>\n",
              "      <td>...</td>\n",
              "      <td>...</td>\n",
              "      <td>...</td>\n",
              "      <td>...</td>\n",
              "      <td>...</td>\n",
              "    </tr>\n",
              "    <tr>\n",
              "      <th>287</th>\n",
              "      <td>Copia de Conceptual framework for high perform...</td>\n",
              "      <td>/content/drive/MyDrive/Tesis Hugo y Juan Jose ...</td>\n",
              "      <td>560232</td>\n",
              "      <td>8</td>\n",
              "      <td>Tippawan Meepung, Prachyanun Nilsook, Panita W...</td>\n",
              "    </tr>\n",
              "    <tr>\n",
              "      <th>288</th>\n",
              "      <td>Copia de Does Team Integration Effect the Succ...</td>\n",
              "      <td>/content/drive/MyDrive/Tesis Hugo y Juan Jose ...</td>\n",
              "      <td>468357</td>\n",
              "      <td>5</td>\n",
              "      <td>Anissa Bettayeb*, Khalid Al Marri</td>\n",
              "    </tr>\n",
              "    <tr>\n",
              "      <th>289</th>\n",
              "      <td>Copia de Digital transformation and digital li...</td>\n",
              "      <td>/content/drive/MyDrive/Tesis Hugo y Juan Jose ...</td>\n",
              "      <td>1682627</td>\n",
              "      <td>11</td>\n",
              "      <td>Silvia Farias-Gaytan</td>\n",
              "    </tr>\n",
              "    <tr>\n",
              "      <th>290</th>\n",
              "      <td>Copia de Digitalization of learning resources ...</td>\n",
              "      <td>/content/drive/MyDrive/Tesis Hugo y Juan Jose ...</td>\n",
              "      <td>283606</td>\n",
              "      <td>17</td>\n",
              "      <td>NaN</td>\n",
              "    </tr>\n",
              "    <tr>\n",
              "      <th>291</th>\n",
              "      <td>Copia de Education 3.0 - Blockchain-backed moo...</td>\n",
              "      <td>/content/drive/MyDrive/Tesis Hugo y Juan Jose ...</td>\n",
              "      <td>650970</td>\n",
              "      <td>10</td>\n",
              "      <td>radu.catalin</td>\n",
              "    </tr>\n",
              "  </tbody>\n",
              "</table>\n",
              "<p>292 rows × 5 columns</p>\n",
              "</div>\n",
              "    <div class=\"colab-df-buttons\">\n",
              "\n",
              "  <div class=\"colab-df-container\">\n",
              "    <button class=\"colab-df-convert\" onclick=\"convertToInteractive('df-83125ecd-6e60-4043-bc23-061af1ba732b')\"\n",
              "            title=\"Convert this dataframe to an interactive table.\"\n",
              "            style=\"display:none;\">\n",
              "\n",
              "  <svg xmlns=\"http://www.w3.org/2000/svg\" height=\"24px\" viewBox=\"0 -960 960 960\">\n",
              "    <path d=\"M120-120v-720h720v720H120Zm60-500h600v-160H180v160Zm220 220h160v-160H400v160Zm0 220h160v-160H400v160ZM180-400h160v-160H180v160Zm440 0h160v-160H620v160ZM180-180h160v-160H180v160Zm440 0h160v-160H620v160Z\"/>\n",
              "  </svg>\n",
              "    </button>\n",
              "\n",
              "  <style>\n",
              "    .colab-df-container {\n",
              "      display:flex;\n",
              "      gap: 12px;\n",
              "    }\n",
              "\n",
              "    .colab-df-convert {\n",
              "      background-color: #E8F0FE;\n",
              "      border: none;\n",
              "      border-radius: 50%;\n",
              "      cursor: pointer;\n",
              "      display: none;\n",
              "      fill: #1967D2;\n",
              "      height: 32px;\n",
              "      padding: 0 0 0 0;\n",
              "      width: 32px;\n",
              "    }\n",
              "\n",
              "    .colab-df-convert:hover {\n",
              "      background-color: #E2EBFA;\n",
              "      box-shadow: 0px 1px 2px rgba(60, 64, 67, 0.3), 0px 1px 3px 1px rgba(60, 64, 67, 0.15);\n",
              "      fill: #174EA6;\n",
              "    }\n",
              "\n",
              "    .colab-df-buttons div {\n",
              "      margin-bottom: 4px;\n",
              "    }\n",
              "\n",
              "    [theme=dark] .colab-df-convert {\n",
              "      background-color: #3B4455;\n",
              "      fill: #D2E3FC;\n",
              "    }\n",
              "\n",
              "    [theme=dark] .colab-df-convert:hover {\n",
              "      background-color: #434B5C;\n",
              "      box-shadow: 0px 1px 3px 1px rgba(0, 0, 0, 0.15);\n",
              "      filter: drop-shadow(0px 1px 2px rgba(0, 0, 0, 0.3));\n",
              "      fill: #FFFFFF;\n",
              "    }\n",
              "  </style>\n",
              "\n",
              "    <script>\n",
              "      const buttonEl =\n",
              "        document.querySelector('#df-83125ecd-6e60-4043-bc23-061af1ba732b button.colab-df-convert');\n",
              "      buttonEl.style.display =\n",
              "        google.colab.kernel.accessAllowed ? 'block' : 'none';\n",
              "\n",
              "      async function convertToInteractive(key) {\n",
              "        const element = document.querySelector('#df-83125ecd-6e60-4043-bc23-061af1ba732b');\n",
              "        const dataTable =\n",
              "          await google.colab.kernel.invokeFunction('convertToInteractive',\n",
              "                                                    [key], {});\n",
              "        if (!dataTable) return;\n",
              "\n",
              "        const docLinkHtml = 'Like what you see? Visit the ' +\n",
              "          '<a target=\"_blank\" href=https://colab.research.google.com/notebooks/data_table.ipynb>data table notebook</a>'\n",
              "          + ' to learn more about interactive tables.';\n",
              "        element.innerHTML = '';\n",
              "        dataTable['output_type'] = 'display_data';\n",
              "        await google.colab.output.renderOutput(dataTable, element);\n",
              "        const docLink = document.createElement('div');\n",
              "        docLink.innerHTML = docLinkHtml;\n",
              "        element.appendChild(docLink);\n",
              "      }\n",
              "    </script>\n",
              "  </div>\n",
              "\n",
              "\n",
              "<div id=\"df-ccd46f51-5d21-47fb-a87a-9a36ccb5ae82\">\n",
              "  <button class=\"colab-df-quickchart\" onclick=\"quickchart('df-ccd46f51-5d21-47fb-a87a-9a36ccb5ae82')\"\n",
              "            title=\"Suggest charts\"\n",
              "            style=\"display:none;\">\n",
              "\n",
              "<svg xmlns=\"http://www.w3.org/2000/svg\" height=\"24px\"viewBox=\"0 0 24 24\"\n",
              "     width=\"24px\">\n",
              "    <g>\n",
              "        <path d=\"M19 3H5c-1.1 0-2 .9-2 2v14c0 1.1.9 2 2 2h14c1.1 0 2-.9 2-2V5c0-1.1-.9-2-2-2zM9 17H7v-7h2v7zm4 0h-2V7h2v10zm4 0h-2v-4h2v4z\"/>\n",
              "    </g>\n",
              "</svg>\n",
              "  </button>\n",
              "\n",
              "<style>\n",
              "  .colab-df-quickchart {\n",
              "      --bg-color: #E8F0FE;\n",
              "      --fill-color: #1967D2;\n",
              "      --hover-bg-color: #E2EBFA;\n",
              "      --hover-fill-color: #174EA6;\n",
              "      --disabled-fill-color: #AAA;\n",
              "      --disabled-bg-color: #DDD;\n",
              "  }\n",
              "\n",
              "  [theme=dark] .colab-df-quickchart {\n",
              "      --bg-color: #3B4455;\n",
              "      --fill-color: #D2E3FC;\n",
              "      --hover-bg-color: #434B5C;\n",
              "      --hover-fill-color: #FFFFFF;\n",
              "      --disabled-bg-color: #3B4455;\n",
              "      --disabled-fill-color: #666;\n",
              "  }\n",
              "\n",
              "  .colab-df-quickchart {\n",
              "    background-color: var(--bg-color);\n",
              "    border: none;\n",
              "    border-radius: 50%;\n",
              "    cursor: pointer;\n",
              "    display: none;\n",
              "    fill: var(--fill-color);\n",
              "    height: 32px;\n",
              "    padding: 0;\n",
              "    width: 32px;\n",
              "  }\n",
              "\n",
              "  .colab-df-quickchart:hover {\n",
              "    background-color: var(--hover-bg-color);\n",
              "    box-shadow: 0 1px 2px rgba(60, 64, 67, 0.3), 0 1px 3px 1px rgba(60, 64, 67, 0.15);\n",
              "    fill: var(--button-hover-fill-color);\n",
              "  }\n",
              "\n",
              "  .colab-df-quickchart-complete:disabled,\n",
              "  .colab-df-quickchart-complete:disabled:hover {\n",
              "    background-color: var(--disabled-bg-color);\n",
              "    fill: var(--disabled-fill-color);\n",
              "    box-shadow: none;\n",
              "  }\n",
              "\n",
              "  .colab-df-spinner {\n",
              "    border: 2px solid var(--fill-color);\n",
              "    border-color: transparent;\n",
              "    border-bottom-color: var(--fill-color);\n",
              "    animation:\n",
              "      spin 1s steps(1) infinite;\n",
              "  }\n",
              "\n",
              "  @keyframes spin {\n",
              "    0% {\n",
              "      border-color: transparent;\n",
              "      border-bottom-color: var(--fill-color);\n",
              "      border-left-color: var(--fill-color);\n",
              "    }\n",
              "    20% {\n",
              "      border-color: transparent;\n",
              "      border-left-color: var(--fill-color);\n",
              "      border-top-color: var(--fill-color);\n",
              "    }\n",
              "    30% {\n",
              "      border-color: transparent;\n",
              "      border-left-color: var(--fill-color);\n",
              "      border-top-color: var(--fill-color);\n",
              "      border-right-color: var(--fill-color);\n",
              "    }\n",
              "    40% {\n",
              "      border-color: transparent;\n",
              "      border-right-color: var(--fill-color);\n",
              "      border-top-color: var(--fill-color);\n",
              "    }\n",
              "    60% {\n",
              "      border-color: transparent;\n",
              "      border-right-color: var(--fill-color);\n",
              "    }\n",
              "    80% {\n",
              "      border-color: transparent;\n",
              "      border-right-color: var(--fill-color);\n",
              "      border-bottom-color: var(--fill-color);\n",
              "    }\n",
              "    90% {\n",
              "      border-color: transparent;\n",
              "      border-bottom-color: var(--fill-color);\n",
              "    }\n",
              "  }\n",
              "</style>\n",
              "\n",
              "  <script>\n",
              "    async function quickchart(key) {\n",
              "      const quickchartButtonEl =\n",
              "        document.querySelector('#' + key + ' button');\n",
              "      quickchartButtonEl.disabled = true;  // To prevent multiple clicks.\n",
              "      quickchartButtonEl.classList.add('colab-df-spinner');\n",
              "      try {\n",
              "        const charts = await google.colab.kernel.invokeFunction(\n",
              "            'suggestCharts', [key], {});\n",
              "      } catch (error) {\n",
              "        console.error('Error during call to suggestCharts:', error);\n",
              "      }\n",
              "      quickchartButtonEl.classList.remove('colab-df-spinner');\n",
              "      quickchartButtonEl.classList.add('colab-df-quickchart-complete');\n",
              "    }\n",
              "    (() => {\n",
              "      let quickchartButtonEl =\n",
              "        document.querySelector('#df-ccd46f51-5d21-47fb-a87a-9a36ccb5ae82 button');\n",
              "      quickchartButtonEl.style.display =\n",
              "        google.colab.kernel.accessAllowed ? 'block' : 'none';\n",
              "    })();\n",
              "  </script>\n",
              "</div>\n",
              "\n",
              "  <div id=\"id_2ce27eff-4d6f-4ece-afd8-d85521da6099\">\n",
              "    <style>\n",
              "      .colab-df-generate {\n",
              "        background-color: #E8F0FE;\n",
              "        border: none;\n",
              "        border-radius: 50%;\n",
              "        cursor: pointer;\n",
              "        display: none;\n",
              "        fill: #1967D2;\n",
              "        height: 32px;\n",
              "        padding: 0 0 0 0;\n",
              "        width: 32px;\n",
              "      }\n",
              "\n",
              "      .colab-df-generate:hover {\n",
              "        background-color: #E2EBFA;\n",
              "        box-shadow: 0px 1px 2px rgba(60, 64, 67, 0.3), 0px 1px 3px 1px rgba(60, 64, 67, 0.15);\n",
              "        fill: #174EA6;\n",
              "      }\n",
              "\n",
              "      [theme=dark] .colab-df-generate {\n",
              "        background-color: #3B4455;\n",
              "        fill: #D2E3FC;\n",
              "      }\n",
              "\n",
              "      [theme=dark] .colab-df-generate:hover {\n",
              "        background-color: #434B5C;\n",
              "        box-shadow: 0px 1px 3px 1px rgba(0, 0, 0, 0.15);\n",
              "        filter: drop-shadow(0px 1px 2px rgba(0, 0, 0, 0.3));\n",
              "        fill: #FFFFFF;\n",
              "      }\n",
              "    </style>\n",
              "    <button class=\"colab-df-generate\" onclick=\"generateWithVariable('dataset')\"\n",
              "            title=\"Generate code using this dataframe.\"\n",
              "            style=\"display:none;\">\n",
              "\n",
              "  <svg xmlns=\"http://www.w3.org/2000/svg\" height=\"24px\"viewBox=\"0 0 24 24\"\n",
              "       width=\"24px\">\n",
              "    <path d=\"M7,19H8.4L18.45,9,17,7.55,7,17.6ZM5,21V16.75L18.45,3.32a2,2,0,0,1,2.83,0l1.4,1.43a1.91,1.91,0,0,1,.58,1.4,1.91,1.91,0,0,1-.58,1.4L9.25,21ZM18.45,9,17,7.55Zm-12,3A5.31,5.31,0,0,0,4.9,8.1,5.31,5.31,0,0,0,1,6.5,5.31,5.31,0,0,0,4.9,4.9,5.31,5.31,0,0,0,6.5,1,5.31,5.31,0,0,0,8.1,4.9,5.31,5.31,0,0,0,12,6.5,5.46,5.46,0,0,0,6.5,12Z\"/>\n",
              "  </svg>\n",
              "    </button>\n",
              "    <script>\n",
              "      (() => {\n",
              "      const buttonEl =\n",
              "        document.querySelector('#id_2ce27eff-4d6f-4ece-afd8-d85521da6099 button.colab-df-generate');\n",
              "      buttonEl.style.display =\n",
              "        google.colab.kernel.accessAllowed ? 'block' : 'none';\n",
              "\n",
              "      buttonEl.onclick = () => {\n",
              "        google.colab.notebook.generateWithVariable('dataset');\n",
              "      }\n",
              "      })();\n",
              "    </script>\n",
              "  </div>\n",
              "\n",
              "    </div>\n",
              "  </div>\n"
            ],
            "text/plain": [
              "                                    Nombre del archivo  \\\n",
              "0    mampaso-desbrow-et-al-2023-self-perception-of-...   \n",
              "1    nguyen-et-al-2023-higher-education-policy-and-...   \n",
              "2    keiper-et-al-2023-marketing-analytics-curricul...   \n",
              "3    ye-et-al-2023-digital-marketing-and-analytics-...   \n",
              "4    allen-2020-on-the-cutting-edge-or-the-chopping...   \n",
              "..                                                 ...   \n",
              "287  Copia de Conceptual framework for high perform...   \n",
              "288  Copia de Does Team Integration Effect the Succ...   \n",
              "289  Copia de Digital transformation and digital li...   \n",
              "290  Copia de Digitalization of learning resources ...   \n",
              "291  Copia de Education 3.0 - Blockchain-backed moo...   \n",
              "\n",
              "                                      Ruta del archivo  Peso del archivo  \\\n",
              "0    /content/drive/MyDrive/Tesis Hugo y Juan Jose ...            567051   \n",
              "1    /content/drive/MyDrive/Tesis Hugo y Juan Jose ...            496626   \n",
              "2    /content/drive/MyDrive/Tesis Hugo y Juan Jose ...            698226   \n",
              "3    /content/drive/MyDrive/Tesis Hugo y Juan Jose ...            356306   \n",
              "4    /content/drive/MyDrive/Tesis Hugo y Juan Jose ...            161099   \n",
              "..                                                 ...               ...   \n",
              "287  /content/drive/MyDrive/Tesis Hugo y Juan Jose ...            560232   \n",
              "288  /content/drive/MyDrive/Tesis Hugo y Juan Jose ...            468357   \n",
              "289  /content/drive/MyDrive/Tesis Hugo y Juan Jose ...           1682627   \n",
              "290  /content/drive/MyDrive/Tesis Hugo y Juan Jose ...            283606   \n",
              "291  /content/drive/MyDrive/Tesis Hugo y Juan Jose ...            650970   \n",
              "\n",
              "     Cantidad de páginas                                            Autores  \n",
              "0                     17  Joanne Mampaso Desbrow, Ángel Vicario-Merino, ...  \n",
              "1                      5          Andy Nguyen, Ly Tran, and Bich-Hang Duong  \n",
              "2                     14  Margaret C. Keiper, Jon Nachtigal, Joshua M. L...  \n",
              "3                     13            Christine Ye, Yuna Kim, and Yoon-Na Cho  \n",
              "4                     32                                     Scott J. Allen  \n",
              "..                   ...                                                ...  \n",
              "287                    8  Tippawan Meepung, Prachyanun Nilsook, Panita W...  \n",
              "288                    5                  Anissa Bettayeb*, Khalid Al Marri  \n",
              "289                   11                               Silvia Farias-Gaytan  \n",
              "290                   17                                                NaN  \n",
              "291                   10                                       radu.catalin  \n",
              "\n",
              "[292 rows x 5 columns]"
            ]
          },
          "execution_count": 128,
          "metadata": {},
          "output_type": "execute_result"
        }
      ],
      "source": [
        "#verificamos que cargue correctamente\n",
        "dataset"
      ]
    },
    {
      "cell_type": "code",
      "execution_count": null,
      "metadata": {
        "colab": {
          "base_uri": "https://localhost:8080/"
        },
        "id": "RG4Hm_Ysi4jB",
        "outputId": "9e3d03ce-aaf6-4a75-bd01-11bd237ed750"
      },
      "outputs": [
        {
          "data": {
            "text/plain": [
              "Index(['Nombre del archivo', 'Ruta del archivo', 'Peso del archivo',\n",
              "       'Cantidad de páginas', 'Autores'],\n",
              "      dtype='object')"
            ]
          },
          "execution_count": 129,
          "metadata": {},
          "output_type": "execute_result"
        }
      ],
      "source": [
        "#identificamos los nombres de los atributos o columnas\n",
        "dataset.columns"
      ]
    },
    {
      "cell_type": "code",
      "execution_count": null,
      "metadata": {
        "colab": {
          "base_uri": "https://localhost:8080/"
        },
        "id": "hAa5dLHAi8so",
        "outputId": "43f6a994-7476-440e-ed99-6addef39ddac"
      },
      "outputs": [
        {
          "data": {
            "application/vnd.google.colaboratory.intrinsic+json": {
              "summary": "{\n  \"name\": \"dataset\",\n  \"rows\": 8,\n  \"fields\": [\n    {\n      \"column\": \"Peso del archivo\",\n      \"properties\": {\n        \"dtype\": \"number\",\n        \"std\": 8269746.1547516575,\n        \"min\": 292.0,\n        \"max\": 24147148.0,\n        \"num_unique_values\": 8,\n        \"samples\": [\n          1245749.404109589,\n          698100.0,\n          292.0\n        ],\n        \"semantic_type\": \"\",\n        \"description\": \"\"\n      }\n    },\n    {\n      \"column\": \"Cantidad de p\\u00e1ginas\",\n      \"properties\": {\n        \"dtype\": \"number\",\n        \"std\": 225.91356742565222,\n        \"min\": 3.0,\n        \"max\": 634.0,\n        \"num_unique_values\": 8,\n        \"samples\": [\n          18.113013698630137,\n          15.0,\n          292.0\n        ],\n        \"semantic_type\": \"\",\n        \"description\": \"\"\n      }\n    }\n  ]\n}",
              "type": "dataframe"
            },
            "text/html": [
              "\n",
              "  <div id=\"df-c6239582-88b6-4a54-afd1-09c646015f97\" class=\"colab-df-container\">\n",
              "    <div>\n",
              "<style scoped>\n",
              "    .dataframe tbody tr th:only-of-type {\n",
              "        vertical-align: middle;\n",
              "    }\n",
              "\n",
              "    .dataframe tbody tr th {\n",
              "        vertical-align: top;\n",
              "    }\n",
              "\n",
              "    .dataframe thead th {\n",
              "        text-align: right;\n",
              "    }\n",
              "</style>\n",
              "<table border=\"1\" class=\"dataframe\">\n",
              "  <thead>\n",
              "    <tr style=\"text-align: right;\">\n",
              "      <th></th>\n",
              "      <th>Peso del archivo</th>\n",
              "      <th>Cantidad de páginas</th>\n",
              "    </tr>\n",
              "  </thead>\n",
              "  <tbody>\n",
              "    <tr>\n",
              "      <th>count</th>\n",
              "      <td>2.920000e+02</td>\n",
              "      <td>292.000000</td>\n",
              "    </tr>\n",
              "    <tr>\n",
              "      <th>mean</th>\n",
              "      <td>1.245749e+06</td>\n",
              "      <td>18.113014</td>\n",
              "    </tr>\n",
              "    <tr>\n",
              "      <th>std</th>\n",
              "      <td>2.090905e+06</td>\n",
              "      <td>37.045308</td>\n",
              "    </tr>\n",
              "    <tr>\n",
              "      <th>min</th>\n",
              "      <td>1.215020e+05</td>\n",
              "      <td>3.000000</td>\n",
              "    </tr>\n",
              "    <tr>\n",
              "      <th>25%</th>\n",
              "      <td>4.153585e+05</td>\n",
              "      <td>10.000000</td>\n",
              "    </tr>\n",
              "    <tr>\n",
              "      <th>50%</th>\n",
              "      <td>6.981000e+05</td>\n",
              "      <td>15.000000</td>\n",
              "    </tr>\n",
              "    <tr>\n",
              "      <th>75%</th>\n",
              "      <td>1.301895e+06</td>\n",
              "      <td>20.000000</td>\n",
              "    </tr>\n",
              "    <tr>\n",
              "      <th>max</th>\n",
              "      <td>2.414715e+07</td>\n",
              "      <td>634.000000</td>\n",
              "    </tr>\n",
              "  </tbody>\n",
              "</table>\n",
              "</div>\n",
              "    <div class=\"colab-df-buttons\">\n",
              "\n",
              "  <div class=\"colab-df-container\">\n",
              "    <button class=\"colab-df-convert\" onclick=\"convertToInteractive('df-c6239582-88b6-4a54-afd1-09c646015f97')\"\n",
              "            title=\"Convert this dataframe to an interactive table.\"\n",
              "            style=\"display:none;\">\n",
              "\n",
              "  <svg xmlns=\"http://www.w3.org/2000/svg\" height=\"24px\" viewBox=\"0 -960 960 960\">\n",
              "    <path d=\"M120-120v-720h720v720H120Zm60-500h600v-160H180v160Zm220 220h160v-160H400v160Zm0 220h160v-160H400v160ZM180-400h160v-160H180v160Zm440 0h160v-160H620v160ZM180-180h160v-160H180v160Zm440 0h160v-160H620v160Z\"/>\n",
              "  </svg>\n",
              "    </button>\n",
              "\n",
              "  <style>\n",
              "    .colab-df-container {\n",
              "      display:flex;\n",
              "      gap: 12px;\n",
              "    }\n",
              "\n",
              "    .colab-df-convert {\n",
              "      background-color: #E8F0FE;\n",
              "      border: none;\n",
              "      border-radius: 50%;\n",
              "      cursor: pointer;\n",
              "      display: none;\n",
              "      fill: #1967D2;\n",
              "      height: 32px;\n",
              "      padding: 0 0 0 0;\n",
              "      width: 32px;\n",
              "    }\n",
              "\n",
              "    .colab-df-convert:hover {\n",
              "      background-color: #E2EBFA;\n",
              "      box-shadow: 0px 1px 2px rgba(60, 64, 67, 0.3), 0px 1px 3px 1px rgba(60, 64, 67, 0.15);\n",
              "      fill: #174EA6;\n",
              "    }\n",
              "\n",
              "    .colab-df-buttons div {\n",
              "      margin-bottom: 4px;\n",
              "    }\n",
              "\n",
              "    [theme=dark] .colab-df-convert {\n",
              "      background-color: #3B4455;\n",
              "      fill: #D2E3FC;\n",
              "    }\n",
              "\n",
              "    [theme=dark] .colab-df-convert:hover {\n",
              "      background-color: #434B5C;\n",
              "      box-shadow: 0px 1px 3px 1px rgba(0, 0, 0, 0.15);\n",
              "      filter: drop-shadow(0px 1px 2px rgba(0, 0, 0, 0.3));\n",
              "      fill: #FFFFFF;\n",
              "    }\n",
              "  </style>\n",
              "\n",
              "    <script>\n",
              "      const buttonEl =\n",
              "        document.querySelector('#df-c6239582-88b6-4a54-afd1-09c646015f97 button.colab-df-convert');\n",
              "      buttonEl.style.display =\n",
              "        google.colab.kernel.accessAllowed ? 'block' : 'none';\n",
              "\n",
              "      async function convertToInteractive(key) {\n",
              "        const element = document.querySelector('#df-c6239582-88b6-4a54-afd1-09c646015f97');\n",
              "        const dataTable =\n",
              "          await google.colab.kernel.invokeFunction('convertToInteractive',\n",
              "                                                    [key], {});\n",
              "        if (!dataTable) return;\n",
              "\n",
              "        const docLinkHtml = 'Like what you see? Visit the ' +\n",
              "          '<a target=\"_blank\" href=https://colab.research.google.com/notebooks/data_table.ipynb>data table notebook</a>'\n",
              "          + ' to learn more about interactive tables.';\n",
              "        element.innerHTML = '';\n",
              "        dataTable['output_type'] = 'display_data';\n",
              "        await google.colab.output.renderOutput(dataTable, element);\n",
              "        const docLink = document.createElement('div');\n",
              "        docLink.innerHTML = docLinkHtml;\n",
              "        element.appendChild(docLink);\n",
              "      }\n",
              "    </script>\n",
              "  </div>\n",
              "\n",
              "\n",
              "<div id=\"df-fe9da122-c621-4215-a968-dc7fe0a3a049\">\n",
              "  <button class=\"colab-df-quickchart\" onclick=\"quickchart('df-fe9da122-c621-4215-a968-dc7fe0a3a049')\"\n",
              "            title=\"Suggest charts\"\n",
              "            style=\"display:none;\">\n",
              "\n",
              "<svg xmlns=\"http://www.w3.org/2000/svg\" height=\"24px\"viewBox=\"0 0 24 24\"\n",
              "     width=\"24px\">\n",
              "    <g>\n",
              "        <path d=\"M19 3H5c-1.1 0-2 .9-2 2v14c0 1.1.9 2 2 2h14c1.1 0 2-.9 2-2V5c0-1.1-.9-2-2-2zM9 17H7v-7h2v7zm4 0h-2V7h2v10zm4 0h-2v-4h2v4z\"/>\n",
              "    </g>\n",
              "</svg>\n",
              "  </button>\n",
              "\n",
              "<style>\n",
              "  .colab-df-quickchart {\n",
              "      --bg-color: #E8F0FE;\n",
              "      --fill-color: #1967D2;\n",
              "      --hover-bg-color: #E2EBFA;\n",
              "      --hover-fill-color: #174EA6;\n",
              "      --disabled-fill-color: #AAA;\n",
              "      --disabled-bg-color: #DDD;\n",
              "  }\n",
              "\n",
              "  [theme=dark] .colab-df-quickchart {\n",
              "      --bg-color: #3B4455;\n",
              "      --fill-color: #D2E3FC;\n",
              "      --hover-bg-color: #434B5C;\n",
              "      --hover-fill-color: #FFFFFF;\n",
              "      --disabled-bg-color: #3B4455;\n",
              "      --disabled-fill-color: #666;\n",
              "  }\n",
              "\n",
              "  .colab-df-quickchart {\n",
              "    background-color: var(--bg-color);\n",
              "    border: none;\n",
              "    border-radius: 50%;\n",
              "    cursor: pointer;\n",
              "    display: none;\n",
              "    fill: var(--fill-color);\n",
              "    height: 32px;\n",
              "    padding: 0;\n",
              "    width: 32px;\n",
              "  }\n",
              "\n",
              "  .colab-df-quickchart:hover {\n",
              "    background-color: var(--hover-bg-color);\n",
              "    box-shadow: 0 1px 2px rgba(60, 64, 67, 0.3), 0 1px 3px 1px rgba(60, 64, 67, 0.15);\n",
              "    fill: var(--button-hover-fill-color);\n",
              "  }\n",
              "\n",
              "  .colab-df-quickchart-complete:disabled,\n",
              "  .colab-df-quickchart-complete:disabled:hover {\n",
              "    background-color: var(--disabled-bg-color);\n",
              "    fill: var(--disabled-fill-color);\n",
              "    box-shadow: none;\n",
              "  }\n",
              "\n",
              "  .colab-df-spinner {\n",
              "    border: 2px solid var(--fill-color);\n",
              "    border-color: transparent;\n",
              "    border-bottom-color: var(--fill-color);\n",
              "    animation:\n",
              "      spin 1s steps(1) infinite;\n",
              "  }\n",
              "\n",
              "  @keyframes spin {\n",
              "    0% {\n",
              "      border-color: transparent;\n",
              "      border-bottom-color: var(--fill-color);\n",
              "      border-left-color: var(--fill-color);\n",
              "    }\n",
              "    20% {\n",
              "      border-color: transparent;\n",
              "      border-left-color: var(--fill-color);\n",
              "      border-top-color: var(--fill-color);\n",
              "    }\n",
              "    30% {\n",
              "      border-color: transparent;\n",
              "      border-left-color: var(--fill-color);\n",
              "      border-top-color: var(--fill-color);\n",
              "      border-right-color: var(--fill-color);\n",
              "    }\n",
              "    40% {\n",
              "      border-color: transparent;\n",
              "      border-right-color: var(--fill-color);\n",
              "      border-top-color: var(--fill-color);\n",
              "    }\n",
              "    60% {\n",
              "      border-color: transparent;\n",
              "      border-right-color: var(--fill-color);\n",
              "    }\n",
              "    80% {\n",
              "      border-color: transparent;\n",
              "      border-right-color: var(--fill-color);\n",
              "      border-bottom-color: var(--fill-color);\n",
              "    }\n",
              "    90% {\n",
              "      border-color: transparent;\n",
              "      border-bottom-color: var(--fill-color);\n",
              "    }\n",
              "  }\n",
              "</style>\n",
              "\n",
              "  <script>\n",
              "    async function quickchart(key) {\n",
              "      const quickchartButtonEl =\n",
              "        document.querySelector('#' + key + ' button');\n",
              "      quickchartButtonEl.disabled = true;  // To prevent multiple clicks.\n",
              "      quickchartButtonEl.classList.add('colab-df-spinner');\n",
              "      try {\n",
              "        const charts = await google.colab.kernel.invokeFunction(\n",
              "            'suggestCharts', [key], {});\n",
              "      } catch (error) {\n",
              "        console.error('Error during call to suggestCharts:', error);\n",
              "      }\n",
              "      quickchartButtonEl.classList.remove('colab-df-spinner');\n",
              "      quickchartButtonEl.classList.add('colab-df-quickchart-complete');\n",
              "    }\n",
              "    (() => {\n",
              "      let quickchartButtonEl =\n",
              "        document.querySelector('#df-fe9da122-c621-4215-a968-dc7fe0a3a049 button');\n",
              "      quickchartButtonEl.style.display =\n",
              "        google.colab.kernel.accessAllowed ? 'block' : 'none';\n",
              "    })();\n",
              "  </script>\n",
              "</div>\n",
              "\n",
              "    </div>\n",
              "  </div>\n"
            ],
            "text/plain": [
              "       Peso del archivo  Cantidad de páginas\n",
              "count      2.920000e+02           292.000000\n",
              "mean       1.245749e+06            18.113014\n",
              "std        2.090905e+06            37.045308\n",
              "min        1.215020e+05             3.000000\n",
              "25%        4.153585e+05            10.000000\n",
              "50%        6.981000e+05            15.000000\n",
              "75%        1.301895e+06            20.000000\n",
              "max        2.414715e+07           634.000000"
            ]
          },
          "execution_count": 130,
          "metadata": {},
          "output_type": "execute_result"
        }
      ],
      "source": [
        "# características poblacionales o estadísticos\n",
        "dataset.describe()"
      ]
    },
    {
      "cell_type": "code",
      "execution_count": null,
      "metadata": {
        "colab": {
          "base_uri": "https://localhost:8080/"
        },
        "id": "Ux01WS0sjH8n",
        "outputId": "fd506813-e7a7-4000-8e19-afddde6ed7dd"
      },
      "outputs": [
        {
          "data": {
            "text/plain": [
              "Nombre del archivo       0\n",
              "Ruta del archivo         0\n",
              "Peso del archivo         0\n",
              "Cantidad de páginas      0\n",
              "Autores                133\n",
              "dtype: int64"
            ]
          },
          "execution_count": 131,
          "metadata": {},
          "output_type": "execute_result"
        }
      ],
      "source": [
        "#Identificamos valores faltantes\n",
        "dataset.isnull().sum()"
      ]
    },
    {
      "cell_type": "code",
      "execution_count": null,
      "metadata": {
        "colab": {
          "base_uri": "https://localhost:8080/"
        },
        "id": "hne5gQ3mhJCw",
        "outputId": "3c7d3017-6736-479e-f14b-c0575fe061e3"
      },
      "outputs": [
        {
          "name": "stdout",
          "output_type": "stream",
          "text": [
            "                                  Nombre del archivo  \\\n",
            "0  mampaso-desbrow-et-al-2023-self-perception-of-...   \n",
            "1  nguyen-et-al-2023-higher-education-policy-and-...   \n",
            "2  keiper-et-al-2023-marketing-analytics-curricul...   \n",
            "3  ye-et-al-2023-digital-marketing-and-analytics-...   \n",
            "4  allen-2020-on-the-cutting-edge-or-the-chopping...   \n",
            "\n",
            "                                    Ruta del archivo  Peso del archivo  \\\n",
            "0  /content/drive/MyDrive/Tesis Hugo y Juan Jose ...            567051   \n",
            "1  /content/drive/MyDrive/Tesis Hugo y Juan Jose ...            496626   \n",
            "2  /content/drive/MyDrive/Tesis Hugo y Juan Jose ...            698226   \n",
            "3  /content/drive/MyDrive/Tesis Hugo y Juan Jose ...            356306   \n",
            "4  /content/drive/MyDrive/Tesis Hugo y Juan Jose ...            161099   \n",
            "\n",
            "   Cantidad de páginas                                            Autores  \n",
            "0                   17  Joanne Mampaso Desbrow, Ángel Vicario-Merino, ...  \n",
            "1                    5          Andy Nguyen, Ly Tran, and Bich-Hang Duong  \n",
            "2                   14  Margaret C. Keiper, Jon Nachtigal, Joshua M. L...  \n",
            "3                   13            Christine Ye, Yuna Kim, and Yoon-Na Cho  \n",
            "4                   32                                     Scott J. Allen  \n"
          ]
        }
      ],
      "source": [
        "# Leer el archivo CSV\n",
        "df = pd.read_csv('metadata.csv')\n",
        "\n",
        "# Mostrar el archivo CSV\n",
        "print(df.head())\n"
      ]
    },
    {
      "cell_type": "markdown",
      "metadata": {
        "id": "Cyjk02ijrBGe"
      },
      "source": [
        "## 7. Procesamiento de los archivos PDF\n"
      ]
    },
    {
      "cell_type": "markdown",
      "metadata": {
        "id": "0wfdPd0rrRZd"
      },
      "source": [
        "### 1. Definir la carpeta destino para convertir todos los archivos a txt"
      ]
    },
    {
      "cell_type": "code",
      "execution_count": null,
      "metadata": {
        "id": "mkcHzSdno1HO"
      },
      "outputs": [],
      "source": [
        "# Crear la carpeta de destino\n",
        "destination_folder = \"/content/drive/MyDrive/Tesis Hugo y Juan Jose - Análisis texto - TD/Conjunto de Datos (txt)\"\n",
        "os.makedirs(destination_folder, exist_ok=True)\n"
      ]
    },
    {
      "cell_type": "markdown",
      "metadata": {
        "id": "atYVRNoPuUUg"
      },
      "source": [
        "### 2. Verificar y limpiar carpeta de destino"
      ]
    },
    {
      "cell_type": "code",
      "execution_count": null,
      "metadata": {
        "id": "kcpS2UcfrfBP"
      },
      "outputs": [],
      "source": [
        "# Verificar si la carpeta de destino contiene archivos y eliminarlos si es necesario\n",
        "if os.listdir(destination_folder):\n",
        "    for file in os.listdir(destination_folder):\n",
        "        file_path = os.path.join(destination_folder, file)\n",
        "        try:\n",
        "            if os.path.isfile(file_path) or os.path.islink(file_path):\n",
        "                os.unlink(file_path)  # Eliminar el archivo o enlace\n",
        "            elif os.path.isdir(file_path):\n",
        "                os.rmdir(file_path)  # Eliminar el directorio\n",
        "        except Exception as e:\n",
        "            print(f\"Error al eliminar el archivo {file_path}: {e}\")"
      ]
    },
    {
      "cell_type": "markdown",
      "metadata": {
        "id": "Oka_zjK_udvT"
      },
      "source": [
        "### 3. Recorrer directorios y listar archivos PDF"
      ]
    },
    {
      "cell_type": "code",
      "execution_count": null,
      "metadata": {
        "id": "7UeUpiA0riEF"
      },
      "outputs": [],
      "source": [
        "# Obtener la lista de archivos PDF recorriendo el directorio y sus subdirectorios\n",
        "pdf_files = []\n",
        "for root, dirs, files in os.walk(\"/content/drive/MyDrive/Tesis Hugo y Juan Jose - Análisis texto - TD/Conjunto de Datos\"):\n",
        "    for file in files:\n",
        "        if file.endswith(\".pdf\"):\n",
        "            pdf_files.append(os.path.join(root, file))"
      ]
    },
    {
      "cell_type": "markdown",
      "metadata": {
        "id": "e0kGz88yvJ5R"
      },
      "source": [
        "### 4. Convertir archivos de PDF a TXT"
      ]
    },
    {
      "cell_type": "code",
      "execution_count": null,
      "metadata": {
        "colab": {
          "base_uri": "https://localhost:8080/"
        },
        "id": "4Up3K40lZ0Go",
        "outputId": "d46d542f-9608-4de5-8b1f-cc03e3895c2a"
      },
      "outputs": [
        {
          "name": "stderr",
          "output_type": "stream",
          "text": [
            "/usr/local/lib/python3.10/dist-packages/PyPDF2/_cmap.py:142: PdfReadWarning: Advanced encoding /UniGB-UTF16-H not implemented yet\n",
            "  warnings.warn(\n"
          ]
        },
        {
          "name": "stdout",
          "output_type": "stream",
          "text": [
            "Archivos convertidos: 292\n",
            "Archivos no convertidos: 0\n"
          ]
        }
      ],
      "source": [
        "# Contador de archivos convertidos\n",
        "converted_count = 0\n",
        "\n",
        "# Contador de archivos no convertidos\n",
        "not_converted_count = 0\n",
        "\n",
        "# Convertir los archivos PDF a TXT y guardarlos en la carpeta de destino\n",
        "for pdf_file in pdf_files:\n",
        "    try:\n",
        "        # Obtener el nombre del archivo sin la extensión\n",
        "        file_name = os.path.splitext(os.path.basename(pdf_file))[0]\n",
        "\n",
        "        # Crear la ruta del archivo de texto\n",
        "        txt_file = os.path.join(destination_folder, file_name + \".txt\")\n",
        "\n",
        "        # Abrir el archivo PDF\n",
        "        with open(pdf_file, \"rb\") as f:\n",
        "            pdf_reader = PyPDF2.PdfReader(f)\n",
        "\n",
        "            # Abrir el archivo de texto\n",
        "            with open(txt_file, \"w\", encoding=\"utf-8\") as txt:\n",
        "                # Extraer el texto de cada página del PDF y escribirlo en el archivo de texto\n",
        "                for page_num in range(len(pdf_reader.pages)):\n",
        "                    page = pdf_reader.pages[page_num]\n",
        "                    txt.write(page.extract_text())\n",
        "                    txt.write(\"\\n\")  # Añadir un salto de línea entre páginas\n",
        "        # Incrementar el contador de archivos convertidos\n",
        "        converted_count += 1\n",
        "    except Exception as e:\n",
        "        # Incrementar el contador de archivos no convertidos\n",
        "        not_converted_count += 1\n",
        "        print(f\"Error al convertir el archivo {pdf_file}: {e}\")\n",
        "\n",
        "# Imprimir el número de archivos convertidos y no convertidos\n",
        "print(f\"Archivos convertidos: {converted_count}\")\n",
        "print(f\"Archivos no convertidos: {not_converted_count}\")"
      ]
    },
    {
      "cell_type": "markdown",
      "metadata": {
        "id": "wuC5FD9avVDS"
      },
      "source": [
        "### 5. Eliminar los archivos que estan vacios o contienen solo espacios en blanco"
      ]
    },
    {
      "cell_type": "code",
      "execution_count": null,
      "metadata": {
        "id": "8dA7Pc0N22hs"
      },
      "outputs": [],
      "source": [
        "# Obtener la lista de archivos TXT en la carpeta de destino\n",
        "txt_files = glob.glob(os.path.join(destination_folder, \"*.txt\"))"
      ]
    },
    {
      "cell_type": "code",
      "execution_count": null,
      "metadata": {
        "id": "ARFfEP_gsURo"
      },
      "outputs": [],
      "source": [
        "# Obtener la lista de archivos TXT vacíos o con solo espacios en blanco\n",
        "empty_files = []\n",
        "\n",
        "for txt_file in txt_files:\n",
        "    try:\n",
        "        # Abrir el archivo TXT\n",
        "        with open(txt_file, \"r\", encoding=\"utf-8\") as f:\n",
        "            text = f.read()\n",
        "\n",
        "        # Verificar si el texto está vacío o contiene solo espacios en blanco\n",
        "        if not text.strip():\n",
        "            empty_files.append(txt_file)\n",
        "\n",
        "    except Exception as e:\n",
        "        print(f\"Error al verificar el archivo {txt_file}: {e}\")"
      ]
    },
    {
      "cell_type": "code",
      "execution_count": null,
      "metadata": {
        "id": "uE9r_P941raP"
      },
      "outputs": [],
      "source": [
        "# Eliminar los archivos vacíos o con solo espacios en blanco\n",
        "for file in empty_files:\n",
        "    try:\n",
        "        os.remove(file)\n",
        "        print(f\"Archivo {file} eliminado.\")\n",
        "    except Exception as e:\n",
        "        print(f\"Error al eliminar el archivo {file}: {e}\")"
      ]
    },
    {
      "cell_type": "code",
      "execution_count": null,
      "metadata": {
        "colab": {
          "base_uri": "https://localhost:8080/"
        },
        "id": "uCEhRtUusfSF",
        "outputId": "e4f5ecb8-1619-4f8b-984b-c1fbac33c703"
      },
      "outputs": [
        {
          "name": "stdout",
          "output_type": "stream",
          "text": [
            "Hay 292 archivos TXT restantes\n"
          ]
        }
      ],
      "source": [
        "# Imprimir el número de archivos TXT restantes\n",
        "txt_files = glob.glob(\"/content/drive/MyDrive/Tesis Hugo y Juan Jose - Análisis texto - TD/Conjunto de Datos (txt)/*.txt\")\n",
        "print(f\"Hay {len(txt_files)} archivos TXT restantes\")"
      ]
    },
    {
      "cell_type": "markdown",
      "metadata": {
        "id": "A0Kaw0KGvkfr"
      },
      "source": [
        "### 6. Reconocer el idioma de los archivos, decir cuantos archivos hay y de que idioma"
      ]
    },
    {
      "cell_type": "code",
      "execution_count": null,
      "metadata": {
        "id": "v_H_gb-9qHMH"
      },
      "outputs": [],
      "source": [
        "# Obtener la lista de archivos TXT en la carpeta de destino\n",
        "txt_files = glob.glob(os.path.join(destination_folder, \"*.txt\"))"
      ]
    },
    {
      "cell_type": "code",
      "execution_count": null,
      "metadata": {
        "id": "FM3VX_HQsxRX"
      },
      "outputs": [],
      "source": [
        "# Diccionario para almacenar el conteo de archivos por idioma\n",
        "language_counts = {}\n",
        "\n",
        "# Recorrer los archivos TXT y detectar el idioma\n",
        "for txt_file in txt_files:\n",
        "    try:\n",
        "        # Abrir el archivo TXT\n",
        "        with open(txt_file, \"r\", encoding=\"utf-8\") as f:\n",
        "            text = f.read()\n",
        "\n",
        "        # Detectar el idioma del texto\n",
        "        language = langdetect.detect(text)\n",
        "\n",
        "        # Incrementar el contador para el idioma detectado\n",
        "        language_counts[language] = language_counts.get(language, 0) + 1\n",
        "\n",
        "    except Exception as e:\n",
        "        print(f\"Error al procesar el archivo {txt_file}: {e}\")"
      ]
    },
    {
      "cell_type": "code",
      "execution_count": null,
      "metadata": {
        "colab": {
          "base_uri": "https://localhost:8080/"
        },
        "id": "mplbHbjSTRK4",
        "outputId": "1960fe3d-6f42-4cb1-9a64-d2e5b0d1c4a6"
      },
      "outputs": [
        {
          "name": "stdout",
          "output_type": "stream",
          "text": [
            "Idioma: en, Cantidad de archivos: 257\n",
            "Idioma: hr, Cantidad de archivos: 1\n",
            "Idioma: es, Cantidad de archivos: 18\n",
            "Idioma: ru, Cantidad de archivos: 13\n",
            "Idioma: de, Cantidad de archivos: 1\n",
            "Idioma: pt, Cantidad de archivos: 2\n",
            "Total de archivos: 292\n"
          ]
        }
      ],
      "source": [
        "# Imprimir el conteo de archivos por idioma\n",
        "for language, count in language_counts.items():\n",
        "    print(f\"Idioma: {language}, Cantidad de archivos: {count}\")\n",
        "\n",
        "# Imprimir el número total de archivos\n",
        "total_files = sum(language_counts.values())\n",
        "print(f\"Total de archivos: {total_files}\")\n"
      ]
    },
    {
      "cell_type": "code",
      "execution_count": null,
      "metadata": {
        "colab": {
          "base_uri": "https://localhost:8080/",
          "height": 651
        },
        "id": "ki9suFG0tHNd",
        "outputId": "a5dde753-b7df-48ea-8eb5-ded320f2a3b2"
      },
      "outputs": [
        {
          "name": "stderr",
          "output_type": "stream",
          "text": [
            "<ipython-input-26-71df27bfe2c9>:10: FutureWarning: \n",
            "\n",
            "Passing `palette` without assigning `hue` is deprecated and will be removed in v0.14.0. Assign the `x` variable to `hue` and set `legend=False` for the same effect.\n",
            "\n",
            "  sns.barplot(x=languages, y=counts, palette=\"Set3\")\n"
          ]
        },
        {
          "data": {
            "image/png": "[encoded data removed]",
            "text/plain": [
              "<Figure size 1200x600 with 1 Axes>"
            ]
          },
          "metadata": {},
          "output_type": "display_data"
        }
      ],
      "source": [
        "# Grafico de barras por idioma\n",
        "import matplotlib.pyplot as plt\n",
        "import seaborn as sns\n",
        "# Preparar los datos\n",
        "languages = list(language_counts.keys())\n",
        "counts = list(language_counts.values())\n",
        "\n",
        "# Crear el gráfico de barras\n",
        "plt.figure(figsize=(12, 6))\n",
        "sns.barplot(x=languages, y=counts, palette=\"Set3\")\n",
        "\n",
        "# Añadir etiquetas a las barras\n",
        "for i, count in enumerate(counts):\n",
        "    plt.text(i, count, str(count), ha=\"center\", va=\"bottom\")\n",
        "\n",
        "# Añadir título y etiquetas a los ejes\n",
        "plt.title(\"Distribución de idiomas en los archivos\")\n",
        "plt.xlabel(\"Idioma\")\n",
        "plt.ylabel(\"Cantidad de archivos\")\n",
        "\n",
        "# Mostrar el gráfico\n",
        "plt.show()\n"
      ]
    },
    {
      "cell_type": "markdown",
      "metadata": {
        "id": "a5oS2lYZv0Rg"
      },
      "source": [
        "### 7. Convertir todos los archivos a un mismo idioma (English) y eliminar los archivos que no se puedan traducir"
      ]
    },
    {
      "cell_type": "code",
      "execution_count": null,
      "metadata": {
        "colab": {
          "background_save": true,
          "base_uri": "https://localhost:8080/"
        },
        "id": "my3KlxNwMkRF",
        "outputId": "828856ae-7e55-4485-edd2-4361a260ef39"
      },
      "outputs": [
        {
          "name": "stdout",
          "output_type": "stream",
          "text": [
            "Hay 292 archivos TXT restantes\n",
            "Se tradujeron 23 archivos.\n",
            "No se pudieron convertir 12 archivos:\n",
            "- Archivo: /content/drive/MyDrive/Tesis Hugo y Juan Jose - Análisis texto - TD/Conjunto de Datos (txt)/ChatGPT and AI in the Universities - An Introduction to the Near Future.txt, Idioma: ru\n",
            "- Archivo: /content/drive/MyDrive/Tesis Hugo y Juan Jose - Análisis texto - TD/Conjunto de Datos (txt)/The University and City Images for Migration of Nonresident Students - a Regional Case.txt, Idioma: ru\n",
            "- Archivo: /content/drive/MyDrive/Tesis Hugo y Juan Jose - Análisis texto - TD/Conjunto de Datos (txt)/Problems and Risks of Digitalization in Higher Education.txt, Idioma: ru\n",
            "- Archivo: /content/drive/MyDrive/Tesis Hugo y Juan Jose - Análisis texto - TD/Conjunto de Datos (txt)/How University Teachers View the Digital Transformation of Higher Education.txt, Idioma: ru\n",
            "- Archivo: /content/drive/MyDrive/Tesis Hugo y Juan Jose - Análisis texto - TD/Conjunto de Datos (txt)/Project approach to the implementation of individual educational paths in modern university.txt, Idioma: ru\n",
            "- Archivo: /content/drive/MyDrive/Tesis Hugo y Juan Jose - Análisis texto - TD/Conjunto de Datos (txt)/A Year after the Outbreak of COVID-19.txt, Idioma: ru\n",
            "- Archivo: /content/drive/MyDrive/Tesis Hugo y Juan Jose - Análisis texto - TD/Conjunto de Datos (txt)/Internet of Behavior - Types, models, principles.txt, Idioma: ru\n",
            "- Archivo: /content/drive/MyDrive/Tesis Hugo y Juan Jose - Análisis texto - TD/Conjunto de Datos (txt)/Digitalization of the educational environment Risk assessment of distance education by Russian and vietnamese students.txt, Idioma: ru\n",
            "- Archivo: /content/drive/MyDrive/Tesis Hugo y Juan Jose - Análisis texto - TD/Conjunto de Datos (txt)/Student_s Choice of an Individual Educational Trajectory Subjective Position and Selection Strategies.txt, Idioma: ru\n",
            "- Archivo: /content/drive/MyDrive/Tesis Hugo y Juan Jose - Análisis texto - TD/Conjunto de Datos (txt)/Assessment of the digital activity of universities Russian educational platform of the «Yuryat».txt, Idioma: ru\n",
            "- Archivo: /content/drive/MyDrive/Tesis Hugo y Juan Jose - Análisis texto - TD/Conjunto de Datos (txt)/Information technologies in the development of cybersport as an educational potential for young people.txt, Idioma: ru\n",
            "- Archivo: /content/drive/MyDrive/Tesis Hugo y Juan Jose - Análisis texto - TD/Conjunto de Datos (txt)/Digital Transformation of Education and Challenges of the 21st Century.txt, Idioma: ru\n"
          ]
        }
      ],
      "source": [
        "# Inicializar el traductor\n",
        "translator = Translator()\n",
        "\n",
        "# Definir el idioma objetivo\n",
        "target_language = \"en\"\n",
        "\n",
        "# Contadores de archivos no convertibles y traducidos\n",
        "unconvertible_files = {}\n",
        "total_unconvertible_files = 0\n",
        "total_translated_files = 0\n",
        "\n",
        "# Función para traducir texto y manejar errores\n",
        "def translate_text(text, src_lang, dest_lang):\n",
        "    try:\n",
        "        translated = translator.translate(text, src=src_lang, dest=dest_lang)\n",
        "        return translated.text, None\n",
        "    except Exception as e:\n",
        "        return None, str(e)\n",
        "\n",
        "# Convertir archivos no ingleses a inglés y reemplazar los archivos originales\n",
        "for file in txt_files:\n",
        "    text = \"\"\n",
        "    try:\n",
        "        # Abrir el archivo\n",
        "        with open(file, \"r\", encoding=\"utf-8\") as f:\n",
        "            text = f.read()\n",
        "    except IOError as e:\n",
        "        print(f\"Error al abrir o leer el archivo {file}: {e}\")\n",
        "        continue\n",
        "\n",
        "    # Verificar si el texto no está vacío\n",
        "    if not text.strip():\n",
        "        print(f\"El archivo {file} está vacío o contiene solo espacios en blanco.\")\n",
        "        continue\n",
        "\n",
        "    try:\n",
        "        # Detectar el idioma del texto\n",
        "        detected_language = langdetect.detect(text)\n",
        "    except langdetect.lang_detect_exception.LangDetectException as e:\n",
        "        print(f\"No se pudo detectar el idioma del archivo {file}: {e}\")\n",
        "        continue\n",
        "    except Exception as e:\n",
        "        print(f\"Error inesperado al detectar el idioma del archivo {file}: {e}\")\n",
        "        continue\n",
        "\n",
        "    if detected_language != \"en\":\n",
        "        # Traducir el texto a inglés\n",
        "        translated_text, error = translate_text(text, detected_language, target_language)\n",
        "        if translated_text is not None:\n",
        "            try:\n",
        "                # Escribir el texto traducido de vuelta al archivo\n",
        "                with open(file, \"w\", encoding=\"utf-8\") as f:\n",
        "                    f.write(translated_text)\n",
        "                total_translated_files += 1  # Incrementar el contador de archivos traducidos\n",
        "            except IOError as e:\n",
        "                print(f\"Error al escribir el archivo {file}: {e}\")\n",
        "            except Exception as e:\n",
        "                print(f\"Error inesperado al escribir el archivo {file}: {e}\")\n",
        "        else:\n",
        "            total_unconvertible_files += 1\n",
        "            unconvertible_files[file] = detected_language\n",
        "\n",
        "# Imprimir el número de archivos TXT restantes\n",
        "txt_files = glob.glob(os.path.join(destination_folder, \"*.txt\"))\n",
        "print(f\"Hay {len(txt_files)} archivos TXT restantes\")\n",
        "\n",
        "# Imprimir el número de archivos traducidos\n",
        "print(f\"Se tradujeron {total_translated_files} archivos.\")\n",
        "\n",
        "# Imprimir el número de archivos no convertibles y su idioma\n",
        "if total_unconvertible_files > 0:\n",
        "    print(f\"No se pudieron convertir {total_unconvertible_files} archivos:\")\n",
        "    for file, language in unconvertible_files.items():\n",
        "        print(f\"- Archivo: {file}, Idioma: {language}\")\n",
        "else:\n",
        "    print(\"Todos los archivos fueron convertidos con éxito a inglés.\")\n"
      ]
    },
    {
      "cell_type": "code",
      "execution_count": null,
      "metadata": {
        "colab": {
          "background_save": true,
          "base_uri": "https://localhost:8080/"
        },
        "id": "G6MHtH9j76dp",
        "outputId": "9612592c-f46b-400f-c96b-c77cf10aece8"
      },
      "outputs": [
        {
          "name": "stdout",
          "output_type": "stream",
          "text": [
            "Hay 280 archivos TXT restantes\n"
          ]
        }
      ],
      "source": [
        "# Eliminar los archivos que no se pudieron traducir\n",
        "\n",
        "# Obtener la lista de archivos no convertibles\n",
        "unconvertible_files = [file for file, _ in unconvertible_files.items()]\n",
        "\n",
        "# Eliminar los archivos no convertibles\n",
        "for file in unconvertible_files:\n",
        "    try:\n",
        "        os.remove(file)\n",
        "    except Exception as e:\n",
        "        print(f\"Error al eliminar el archivo {file}: {e}\")\n",
        "\n",
        "# Imprimir el número de archivos TXT restantes\n",
        "txt_files = glob.glob(os.path.join(destination_folder, \"*.txt\"))\n",
        "print(f\"Hay {len(txt_files)} archivos TXT restantes\")\n"
      ]
    },
    {
      "cell_type": "markdown",
      "metadata": {
        "id": "bgZlKlLJwcIa"
      },
      "source": [
        "### 8. Limpieza de archivos TXT"
      ]
    },
    {
      "cell_type": "code",
      "execution_count": null,
      "metadata": {
        "colab": {
          "background_save": true
        },
        "id": "Bxfpp1kyteBd"
      },
      "outputs": [],
      "source": [
        "# Obtener la lista de archivos TXT en la carpeta de destino\n",
        "txt_files = glob.glob(os.path.join(destination_folder, \"*.txt\"))"
      ]
    },
    {
      "cell_type": "code",
      "execution_count": null,
      "metadata": {
        "colab": {
          "background_save": true
        },
        "id": "v5UXk9futs4s"
      },
      "outputs": [],
      "source": [
        "# Lista de artículos\n",
        "articles = set([\"a\", \"an\", \"the\", \"of\", \"and\", \"to\", \"in\", \"for\", \"that\", \"as\", \"on\", \"is\", \"with\", \"de\",\n",
        "                \"this\", \"these\", \"by\", \"al\", \"from\", \"et\", \"la\", \"their\", \"y\", \"s\", \"at\", \"or\", \"e\", \"m\", \"en\", \"j\",\n",
        "                \"c\", \"p\", \"el\", \"d\", \"t\", \"r\", \"n\", \"o\", \"b\", \"l\", \"pp\", \"las\", \"los\", \"h\", \"que\", \"doi\"\n",
        "                \"g\",\"se\",\"than\",\"them\",\"para\",\"k\",\"con\",\"f\",\"v\",\"del\",\"vol\",\"so\",\"ict\",\"un\",\"x\",\"por\",\"dt\",\"if\",\n",
        "                \"una\",\"ed\",\"es\",\"eg\",\"w\",\"th\",\"su\",\"tion\",\"then\",\"u\",\"und\",\"z\",\"ai\",\"ie\",\"di\",\"der\",\"ms\",\"re\",\"st\",\n",
        "                \"lo\",\"ir\",\"per\",\"uso\",\"da\",\"etc\",\"peer\",\"com\",\"nd\",\"q\",\"van\",\"issn\",\"hei\",\"eds\",\"pro\",\"gap\",\"end\",\"em\",\n",
        "                \"rst\",\"smes\",\"me\",\"res\",\"aim\",\"ha\",\"ee\",\"org\",\"sus\", \"sin\",\"sc\",\"bi\",\"ma\", \"aid\", \"chi\",\"aos\",\"dif\",\"esto\",\n",
        "                \"cr\",\"sa\",\"ng\",\"ya\",\"te\",\"nm\",\"ec\",\"med\",\"nor\",\"vi\",\"ss\",\"cf\",\"um\",\"dig\",\"cmo\",\"les\",\"tal\",\"sd\",\"cual\",\"ns\",\n",
        "                \"mc\",\"cc\",\"ce\",\"ac\",\"nt\",\"km\",\"ct\",\"iii\",\"ne\",\"sig\",\"wu\",\"ei\",\"cada\",\"pr\",\"ef\",\"ned\",\"ao\",\"soc\",\"er\",\"ts\",\"ar\",\n",
        "                \"lot\",\"fc\",\"pu\",\"ml\",\"rq\",\"sta\",\"des\",\"os\",\"le\",\"di\",\"fr\",\"vs\",\"ca\",\"td\",\"pa\",\"ii\",\"son\",\"stu\",\"lee\",\"pe\",\"li\",\n",
        "                \"dr\",\"ser\",\"eld\",\"von\",\"sci\",\"rd\",\"ea\",\"ve\",\"http\",\"https\"])"
      ]
    },
    {
      "cell_type": "code",
      "execution_count": null,
      "metadata": {
        "colab": {
          "background_save": true,
          "base_uri": "https://localhost:8080/"
        },
        "id": "w7MRNg-eylrN",
        "outputId": "482830a0-8a2b-4933-e9cf-3dd504fca250"
      },
      "outputs": [
        {
          "name": "stderr",
          "output_type": "stream",
          "text": [
            "[nltk_data] Downloading package punkt to /root/nltk_data...\n",
            "[nltk_data]   Unzipping tokenizers/punkt.zip.\n",
            "[nltk_data] Downloading package wordnet to /root/nltk_data...\n"
          ]
        }
      ],
      "source": [
        "import nltk\n",
        "nltk.download('punkt')\n",
        "nltk.download('wordnet')\n",
        "# Función para identificar y preservar n-gramas\n",
        "def preserve_ngrams(text, n=3):\n",
        "    words = nltk.word_tokenize(text)\n",
        "    n_grams = set()\n",
        "    for i in range(1, n+1):\n",
        "        for gram in ngrams(words, i):\n",
        "            n_grams.add(' '.join(gram))\n",
        "    return n_grams\n",
        "\n",
        "# Función para limpiar el texto\n",
        "def clean_text(text, ngrams_set):\n",
        "    # Eliminar enlaces\n",
        "    text = re.sub(r'http\\S+|www\\S+|https\\S+', '', text, flags=re.MULTILINE)\n",
        "    text = re.sub(r'www\\S+', '', text)\n",
        "    # Convertir a minúsculas\n",
        "    text = text.lower()\n",
        "    # Eliminar caracteres especiales y signos gramaticales, pero preservar los espacios\n",
        "    text = re.sub(r'[^a-zA-Z0-9\\s]', '', text)\n",
        "    # Eliminar caracteres no alfanuméricos\n",
        "    texto = re.sub(r'\\W', ' ', text)\n",
        "    # Eliminar números\n",
        "    text = re.sub(r'\\d+', '', text)\n",
        "    # Eliminar hashtags\n",
        "    texto = re.sub(r'#\\S+', '', text)\n",
        "    # Eliminar emojis\n",
        "    texto = texto.encode('ascii', 'ignore').decode('ascii')\n",
        "    # Eliminar espacios extra\n",
        "    texto = re.sub(r'\\s+', ' ', text).strip()\n",
        "\n",
        "    # Tokenizar el texto\n",
        "    words = nltk.word_tokenize(text)\n",
        "\n",
        "    # Eliminar artículos y preservar n-gramas\n",
        "    cleaned_words = []\n",
        "    i = 0\n",
        "    while i < len(words):\n",
        "        found_ngram = False\n",
        "        for n in range(3, 0, -1):  # Buscando de trigramas a unigramas\n",
        "            if i + n <= len(words):\n",
        "                gram = ' '.join(words[i:i+n])\n",
        "                if gram in ngrams_set and all(word not in articles for word in words[i:i+n]):\n",
        "                    cleaned_words.append(gram)\n",
        "                    i += n\n",
        "                    found_ngram = True\n",
        "                    break\n",
        "        if not found_ngram:\n",
        "            if words[i] not in articles:\n",
        "                cleaned_words.append(words[i])\n",
        "            i += 1\n",
        "\n",
        "    # Eliminar espacios en blanco redundantes y formar el texto limpio\n",
        "    cleaned_text = ' '.join(cleaned_words)\n",
        "    return cleaned_text\n",
        "\n",
        "\n",
        "# Contador de archivos limpiados y bolsa de palabras\n",
        "cleaned_files_count = 0\n",
        "word_bag = Counter()\n",
        "\n",
        "# Limpiar archivos TXT y reemplazar el contenido original\n",
        "for file in txt_files:\n",
        "    text = \"\"\n",
        "    try:\n",
        "        # Abrir el archivo\n",
        "        with open(file, \"r\", encoding=\"utf-8\") as f:\n",
        "            text = f.read()\n",
        "    except IOError as e:\n",
        "        print(f\"Error al abrir o leer el archivo {file}: {e}\")\n",
        "        continue\n",
        "\n",
        "    # Preservar n-gramas\n",
        "    ngrams_set = preserve_ngrams(text)\n",
        "\n",
        "    # Limpiar el texto\n",
        "    cleaned_text = clean_text(text, ngrams_set)\n",
        "\n",
        "    try:\n",
        "        # Escribir el texto limpio de vuelta al archivo\n",
        "        with open(file, \"w\", encoding=\"utf-8\") as f:\n",
        "            f.write(cleaned_text)\n",
        "        cleaned_files_count += 1\n",
        "\n",
        "        # Actualizar la bolsa de palabras\n",
        "        word_bag.update(cleaned_text.split())\n",
        "    except IOError as e:\n",
        "        print(f\"Error al escribir el archivo {file}: {e}\")\n",
        "    except Exception as e:\n",
        "        print(f\"Error inesperado al escribir el archivo {file}: {e}\")"
      ]
    },
    {
      "cell_type": "code",
      "execution_count": null,
      "metadata": {
        "colab": {
          "background_save": true
        },
        "id": "UtqFab2it0fp",
        "outputId": "08e4f5d0-c0d4-48e0-a513-6367e5d1199a"
      },
      "outputs": [
        {
          "name": "stdout",
          "output_type": "stream",
          "text": [
            "Hay 280 archivos TXT restantes\n",
            "Se limpiaron 280 archivos TXT\n"
          ]
        }
      ],
      "source": [
        "# Imprimir el número de archivos TXT restantes\n",
        "txt_files = glob.glob(os.path.join(destination_folder, \"*.txt\"))\n",
        "print(f\"Hay {len(txt_files)} archivos TXT restantes\")\n",
        "\n",
        "# Imprimir el número de archivos limpiados\n",
        "print(f\"Se limpiaron {cleaned_files_count} archivos TXT\")"
      ]
    },
    {
      "cell_type": "markdown",
      "metadata": {
        "id": "aTxNyKvcwQLE"
      },
      "source": [
        "### 9. Lematizar los archivos TXT"
      ]
    },
    {
      "cell_type": "code",
      "execution_count": null,
      "metadata": {
        "colab": {
          "background_save": true
        },
        "id": "9tdz44s9EfuH",
        "outputId": "631f532c-6a00-415e-e461-7752710ec119"
      },
      "outputs": [
        {
          "name": "stderr",
          "output_type": "stream",
          "text": [
            "[nltk_data] Downloading package wordnet to /root/nltk_data...\n",
            "[nltk_data]   Package wordnet is already up-to-date!\n",
            "[nltk_data] Downloading package punkt to /root/nltk_data...\n",
            "[nltk_data]   Package punkt is already up-to-date!\n"
          ]
        },
        {
          "data": {
            "text/plain": [
              "True"
            ]
          },
          "execution_count": 26,
          "metadata": {},
          "output_type": "execute_result"
        }
      ],
      "source": [
        "# Descargar recursos de nltk necesarios\n",
        "nltk.download('wordnet')\n",
        "nltk.download('punkt')\n"
      ]
    },
    {
      "cell_type": "code",
      "execution_count": null,
      "metadata": {
        "colab": {
          "background_save": true
        },
        "id": "6n4-_N7JtSeg"
      },
      "outputs": [],
      "source": [
        "# Obtener la lista de archivos TXT en la carpeta de destino\n",
        "txt_files = glob.glob(os.path.join(destination_folder, \"*.txt\"))"
      ]
    },
    {
      "cell_type": "code",
      "execution_count": null,
      "metadata": {
        "colab": {
          "background_save": true
        },
        "id": "gOYwgRO5fWIN",
        "outputId": "e8049870-edf7-4cd3-bda7-ce0b8afd4794"
      },
      "outputs": [
        {
          "name": "stdout",
          "output_type": "stream",
          "text": [
            "Los archivos han sido lematizados con éxito.\n"
          ]
        }
      ],
      "source": [
        "# Inicializar el lematizador\n",
        "lemmatizer = WordNetLemmatizer()\n",
        "\n",
        "# Procesar cada archivo\n",
        "for file in txt_files:\n",
        "    # Abrir el archivo en modo lectura\n",
        "    with open(file, \"r\", encoding=\"utf-8\") as f:\n",
        "        text = f.read()\n",
        "\n",
        "    # Tokenizar el texto en palabras\n",
        "    words = nltk.word_tokenize(text)\n",
        "\n",
        "    # Lematizar cada palabra\n",
        "    lemmatized_words = [lemmatizer.lemmatize(word) for word in words]\n",
        "\n",
        "    # Actualizar la bolsa de palabras\n",
        "    word_bag.update(lemmatized_words)\n",
        "\n",
        "    # Unir las palabras lematizadas en una cadena de texto\n",
        "    lemmatized_text = \" \".join(lemmatized_words)\n",
        "\n",
        "    # Abrir el archivo en modo escritura para sobreescribir el contenido con el texto lematizado\n",
        "    with open(file, \"w\", encoding=\"utf-8\") as f:\n",
        "        f.write(lemmatized_text)\n",
        "\n",
        "# Imprimir mensaje de éxito\n",
        "print(\"Los archivos han sido lematizados con éxito.\")\n"
      ]
    },
    {
      "cell_type": "markdown",
      "metadata": {
        "id": "nRFb4nYAw-jW"
      },
      "source": [
        "### 10. Bolsa de Palabras (BoW)"
      ]
    },
    {
      "cell_type": "code",
      "execution_count": null,
      "metadata": {
        "colab": {
          "background_save": true
        },
        "id": "llOufvIYV2sT",
        "outputId": "a42f21d5-0f97-4f29-fec8-9dbab37a728d"
      },
      "outputs": [
        {
          "data": {
            "text/plain": [
              "98128"
            ]
          },
          "execution_count": 29,
          "metadata": {},
          "output_type": "execute_result"
        }
      ],
      "source": [
        "len(word_bag)"
      ]
    },
    {
      "cell_type": "code",
      "execution_count": null,
      "metadata": {
        "colab": {
          "base_uri": "https://localhost:8080/"
        },
        "id": "lqZa0UlB_FZR",
        "outputId": "2fd6b806-3d02-473f-b137-7460a513e87f"
      },
      "outputs": [
        {
          "data": {
            "text/plain": [
              "[('digital', 18670),\n",
              " ('education', 14549),\n",
              " ('student', 12776),\n",
              " ('learning', 12380),\n",
              " ('are', 11268),\n",
              " ('it', 11046),\n",
              " ('technology', 10142),\n",
              " ('university', 9992),\n",
              " ('be', 8893),\n",
              " ('research', 8365),\n",
              " ('study', 7321),\n",
              " ('higher', 6466),\n",
              " ('online', 6193),\n",
              " ('process', 6034),\n",
              " ('model', 6001),\n",
              " ('information', 5974),\n",
              " ('wa', 5900),\n",
              " ('can', 5786),\n",
              " ('have', 5767),\n",
              " ('data', 5704)]"
            ]
          },
          "execution_count": 86,
          "metadata": {},
          "output_type": "execute_result"
        }
      ],
      "source": [
        "# Obtener las 20 palabras más comunes en word_bag\n",
        "word_bag.most_common(20)"
      ]
    },
    {
      "cell_type": "code",
      "execution_count": null,
      "metadata": {
        "colab": {
          "base_uri": "https://localhost:8080/"
        },
        "id": "LdQchvNAiSsn",
        "outputId": "38897fa6-6901-4185-9081-78084f74d58e"
      },
      "outputs": [
        {
          "name": "stdout",
          "output_type": "stream",
          "text": [
            "             Count\n",
            "digital      18670\n",
            "education    14549\n",
            "student      12776\n",
            "learning     12380\n",
            "are          11268\n",
            "it           11046\n",
            "technology   10142\n",
            "university    9992\n",
            "be            8893\n",
            "research      8365\n",
            "study         7321\n",
            "higher        6466\n",
            "online        6193\n",
            "process       6034\n",
            "model         6001\n",
            "information   5974\n",
            "wa            5900\n",
            "can           5786\n",
            "have          5767\n",
            "data          5704\n"
          ]
        }
      ],
      "source": [
        "# guardar dentro de un datframe  word_bag\n",
        "\n",
        "import pandas as pd\n",
        "\n",
        "# Convert the Counter object to a dictionary\n",
        "word_bag_dict = dict(word_bag)\n",
        "\n",
        "# Create a DataFrame from the dictionary\n",
        "word_bag_df = pd.DataFrame.from_dict(word_bag_dict, orient='index', columns=['Count'])\n",
        "\n",
        "# Sort the DataFrame by the 'Count' column in descending order\n",
        "word_bag_df = word_bag_df.sort_values(by='Count', ascending=False)\n"
      ]
    },
    {
      "cell_type": "code",
      "execution_count": null,
      "metadata": {
        "colab": {
          "base_uri": "https://localhost:8080/",
          "height": 709
        },
        "id": "jnNzsSLUjG5Z",
        "outputId": "b64801bb-a200-4f52-9d6b-b8bec531e2e8"
      },
      "outputs": [
        {
          "name": "stderr",
          "output_type": "stream",
          "text": [
            "<ipython-input-92-88faf5d655af>:12: FutureWarning: \n",
            "\n",
            "Passing `palette` without assigning `hue` is deprecated and will be removed in v0.14.0. Assign the `x` variable to `hue` and set `legend=False` for the same effect.\n",
            "\n",
            "  sns.barplot(x=words, y=counts, palette=\"Set3\")\n"
          ]
        },
        {
          "data": {
            "image/png": "[encoded data removed]",
            "text/plain": [
              "<Figure size 1200x600 with 1 Axes>"
            ]
          },
          "metadata": {},
          "output_type": "display_data"
        }
      ],
      "source": [
        "# grafico de barras con las 20 palabras mas comunes\n",
        "\n",
        "# Get the top 20 most common words\n",
        "top_20_words = word_bag_df.head(20)\n",
        "\n",
        "# Prepare the data for the bar plot\n",
        "words = top_20_words.index.to_list()\n",
        "counts = top_20_words['Count'].to_list()\n",
        "\n",
        "# Create the bar plot\n",
        "plt.figure(figsize=(12, 6))\n",
        "sns.barplot(x=words, y=counts, palette=\"Set3\")\n",
        "\n",
        "# Add labels and title\n",
        "plt.xlabel(\"Palabras\", fontsize=12)\n",
        "plt.ylabel(\"Frecuencia\", fontsize=12)\n",
        "plt.title(\"Palabras más comunes en los archivos\", fontsize=14)\n",
        "\n",
        "# Rotate x-axis labels for better readability\n",
        "plt.xticks(rotation=45, ha='right')\n",
        "\n",
        "# Show the plot\n",
        "plt.show()\n"
      ]
    },
    {
      "cell_type": "markdown",
      "metadata": {
        "id": "-QKMuuPgxMFv"
      },
      "source": [
        "#### 1. Matriz de características X donde cada fila representa un archivo txt y cada columna representa la presencia o ausencia de una palabra que aparece en la bolsa de palabras en ese archivo txt"
      ]
    },
    {
      "cell_type": "code",
      "execution_count": null,
      "metadata": {
        "colab": {
          "background_save": true
        },
        "id": "QCL2mx5SqsiB"
      },
      "outputs": [],
      "source": [
        "# Obtener la lista de palabras de la bolsa de palabras\n",
        "import csv\n",
        "words = word_bag.keys()\n",
        "\n",
        "# Crear una matriz de características vacía\n",
        "X = np.zeros((len(txt_files), len(words)))\n",
        "\n",
        "# Recorrer los archivos txt y las palabras de la bolsa de palabras\n",
        "for i, file in enumerate(txt_files):\n",
        "    with open(file, \"r\", encoding=\"utf-8\") as f:\n",
        "        text = f.read()\n",
        "    for j, word in enumerate(words):\n",
        "        if word in text:\n",
        "            X[i, j] = 1\n",
        "# Comprobación de dimensiones\n",
        "assert X.shape == (len(txt_files), len(words)), \"Dimensiones de la matriz no coinciden con los datos\"\n"
      ]
    },
    {
      "cell_type": "code",
      "execution_count": null,
      "metadata": {
        "colab": {
          "base_uri": "https://localhost:8080/"
        },
        "id": "eJnflrfxJgHz",
        "outputId": "5375d2be-c430-44e9-c65c-daf2a2102756"
      },
      "outputs": [
        {
          "name": "stdout",
          "output_type": "stream",
          "text": [
            "Archivo guardado en /content/drive/MyDrive/Tesis Hugo y Juan Jose - Análisis texto - TD/Conjunto de Datos (txt)/X.csv\n"
          ]
        }
      ],
      "source": [
        "# Convertir la matriz término-documento a un DataFrame de Pandas\n",
        "X_df = pd.DataFrame(X, columns=words)\n",
        "\n",
        "# Guardar el DataFrame en un archivo CSV\n",
        "file_path = f'{destination_folder}/X.csv'\n",
        "# Guardar el DataFrame en un archivo CSV dentro de Google Drive\n",
        "X_df.to_csv(file_path, index=False)\n",
        "print(f\"Archivo guardado en {file_path}\")"
      ]
    },
    {
      "cell_type": "code",
      "execution_count": null,
      "metadata": {
        "colab": {
          "base_uri": "https://localhost:8080/"
        },
        "id": "1gA5GgzyvXzP",
        "outputId": "1741b95e-58d6-444d-b3a4-df2498a826c8"
      },
      "outputs": [
        {
          "data": {
            "text/plain": [
              "(280, 93952)"
            ]
          },
          "execution_count": 60,
          "metadata": {},
          "output_type": "execute_result"
        }
      ],
      "source": [
        "# Tamaño de la matriz de características\n",
        "X.shape"
      ]
    },
    {
      "cell_type": "code",
      "execution_count": null,
      "metadata": {
        "collapsed": true,
        "id": "yzpuUAcJvfkf"
      },
      "outputs": [],
      "source": [
        "intersection_matrix = X\n",
        "cm = sns.light_palette(\"blue\", as_cmap=True)\n",
        "x = pd.DataFrame(intersection_matrix)\n",
        "x = x.style.background_gradient(cmap=cm)\n",
        "display(x)"
      ]
    },
    {
      "cell_type": "code",
      "execution_count": null,
      "metadata": {
        "id": "b9jwiMGfYTdA"
      },
      "outputs": [],
      "source": [
        "# matriz termino documento\n",
        "\n",
        "import numpy as np\n",
        "import csv\n",
        "\n",
        "# Obtener la lista de palabras de la bolsa de palabras\n",
        "words = word_bag.keys()\n",
        "\n",
        "# Crear una matriz termino documento vacía\n",
        "document_term= np.zeros((len(txt_files), len(words)))\n",
        "\n",
        "# Recorrer los archivos txt y las palabras de la bolsa de palabras\n",
        "for i, file in enumerate(txt_files):\n",
        "    with open(file, \"r\", encoding=\"utf-8\") as f:\n",
        "        text = f.read()\n",
        "    for j, word in enumerate(words):\n",
        "        # Contar la frecuencia de cada palabra en cada documento\n",
        "        document_term[i, j] = text.count(word)\n",
        "\n",
        "# Comprobación de dimensiones\n",
        "assert document_term.shape == (len(txt_files), len(words)), \"Dimensiones de la matriz término-documento no coinciden con los datos\""
      ]
    },
    {
      "cell_type": "code",
      "execution_count": null,
      "metadata": {
        "colab": {
          "base_uri": "https://localhost:8080/"
        },
        "id": "qrabqSa0PtlO",
        "outputId": "086df46c-dd45-4683-b0b1-2beb26464283"
      },
      "outputs": [
        {
          "name": "stdout",
          "output_type": "stream",
          "text": [
            "Archivo guardado en /content/drive/MyDrive/Tesis Hugo y Juan Jose - Análisis texto - TD/Conjunto de Datos (txt)/document_term.csv\n"
          ]
        }
      ],
      "source": [
        "# Convertir la matriz término-documento a un DataFrame de Pandas\n",
        "document_term_df = pd.DataFrame(document_term, columns=words)\n",
        "\n",
        "# Guardar el DataFrame en un archivo CSV\n",
        "file_path = f'{destination_folder}/document_term.csv'\n",
        "# Guardar el DataFrame en un archivo CSV dentro de Google Drive\n",
        "document_term_df.to_csv(file_path, index=False)\n",
        "print(f\"Archivo guardado en {file_path}\")"
      ]
    },
    {
      "cell_type": "code",
      "execution_count": null,
      "metadata": {
        "colab": {
          "base_uri": "https://localhost:8080/"
        },
        "id": "qAcsYDyGZSsj",
        "outputId": "e2ace8f6-a779-46c8-a507-200feb6a26c9"
      },
      "outputs": [
        {
          "data": {
            "text/plain": [
              "(280, 93952)"
            ]
          },
          "execution_count": 65,
          "metadata": {},
          "output_type": "execute_result"
        }
      ],
      "source": [
        "# Tamaño de la matriz termino documento\n",
        "document_term.shape"
      ]
    },
    {
      "cell_type": "code",
      "execution_count": null,
      "metadata": {
        "collapsed": true,
        "id": "lEvhbN-GZW1I"
      },
      "outputs": [],
      "source": [
        "cm = sns.light_palette(\"green\", as_cmap=True)\n",
        "document_term = document_term_df.style.background_gradient(cmap=cm)\n",
        "display(document_term)"
      ]
    },
    {
      "cell_type": "code",
      "execution_count": null,
      "metadata": {
        "colab": {
          "base_uri": "https://localhost:8080/",
          "height": 211
        },
        "id": "PNTzcJkfRict",
        "outputId": "35db90fd-ac32-466b-a2f4-a7b55b991a6f"
      },
      "outputs": [
        {
          "ename": "NameError",
          "evalue": "name 'X' is not defined",
          "output_type": "error",
          "traceback": [
            "\u001b[0;31m---------------------------------------------------------------------------\u001b[0m",
            "\u001b[0;31mNameError\u001b[0m                                 Traceback (most recent call last)",
            "\u001b[0;32m<ipython-input-2-970f36ec6d02>\u001b[0m in \u001b[0;36m<cell line: 11>\u001b[0;34m()\u001b[0m\n\u001b[1;32m      9\u001b[0m \u001b[0;34m\u001b[0m\u001b[0m\n\u001b[1;32m     10\u001b[0m \u001b[0;31m# Fit the model to the data\u001b[0m\u001b[0;34m\u001b[0m\u001b[0;34m\u001b[0m\u001b[0m\n\u001b[0;32m---> 11\u001b[0;31m \u001b[0mtransformed\u001b[0m \u001b[0;34m=\u001b[0m \u001b[0mmodel\u001b[0m\u001b[0;34m.\u001b[0m\u001b[0mfit_transform\u001b[0m\u001b[0;34m(\u001b[0m\u001b[0mX\u001b[0m\u001b[0;34m)\u001b[0m\u001b[0;34m\u001b[0m\u001b[0;34m\u001b[0m\u001b[0m\n\u001b[0m\u001b[1;32m     12\u001b[0m \u001b[0;34m\u001b[0m\u001b[0m\n\u001b[1;32m     13\u001b[0m \u001b[0;31m# Assign colors based on the file index\u001b[0m\u001b[0;34m\u001b[0m\u001b[0;34m\u001b[0m\u001b[0m\n",
            "\u001b[0;31mNameError\u001b[0m: name 'X' is not defined"
          ]
        }
      ],
      "source": [
        "# prompt: Implementa t-Distributed Stochastic Neighbor Embedding (t-SNE) donde cada color represente un archivo de txt\n",
        "\n",
        "from sklearn.manifold import TSNE\n",
        "import matplotlib.pyplot as plt\n",
        "\n",
        "# Create a t-SNE model with 2 dimensions\n",
        "model = TSNE(n_components=2, learning_rate='auto',\n",
        "             init='random', perplexity=30, n_iter=5000)\n",
        "\n",
        "# Fit the model to the data\n",
        "transformed = model.fit_transform(X)\n",
        "\n",
        "# Assign colors based on the file index\n",
        "colors = [i for i in range(len(txt_files))]\n",
        "\n",
        "# Create a scatter plot with colored points\n",
        "plt.figure(figsize=(10, 8))\n",
        "plt.scatter(transformed[:, 0], transformed[:, 1], c=colors)\n",
        "plt.title(\"t-SNE Representation of Documents\")\n",
        "plt.show()\n"
      ]
    },
    {
      "cell_type": "code",
      "execution_count": null,
      "metadata": {
        "id": "sQ3wsmQDG_ha"
      },
      "outputs": [],
      "source": [
        "#import networkx as nx\n",
        "#import matplotlib.pyplot as plt\n",
        "#from collections import Counter\n",
        "\n",
        "# Crear un grafo vacío\n",
        "#G = nx.Graph()\n",
        "\n",
        "# Contador de co-ocurrencias de palabras\n",
        "#word_cooccurrences = Counter()\n",
        "\n",
        "# Recorrer los archivos txt y las palabras de la bolsa de palabras\n",
        "#for file in txt_files:\n",
        " #   with open(file, \"r\", encoding=\"utf-8\") as f:\n",
        "  #      text = f.read()\n",
        "   #     words = text.split()\n",
        "        # Actualizar el contador de co-ocurrencias de palabras\n",
        "    #    word_cooccurrences.update({(word1, word2) for i, word1 in enumerate(words) for j, word2 in enumerate(words) if i != j})\n",
        "\n",
        "# Agregar las aristas al grafo\n",
        "#for (word1, word2), weight in word_cooccurrences.items():\n",
        " #   G.add_edge(word1, word2, weight=weight)\n",
        "\n",
        "# Visualizar la red\n",
        "#plt.figure(figsize=(12, 8))\n",
        "#pos = nx.spring_layout(G)\n",
        "#nx.draw(G, pos, with_labels=True, font_weight='bold', node_size=500, node_color=\"skyblue\", font_size=10, edge_color=\"gray\")\n",
        "#plt.savefig('word_network.png')  # Guardar la visualización del grafo como una imagen PNG\n",
        "#plt.show()\n",
        "\n",
        "# Identificar comunidades de palabras relacionadas\n",
        "#communities = nx.community.greedy_modularity_communities(G)\n",
        "#for community in communities:\n",
        " #   print(f\"Community: {community}\")\n"
      ]
    },
    {
      "cell_type": "code",
      "execution_count": null,
      "metadata": {
        "id": "4EqoKE3S5xl9"
      },
      "outputs": [],
      "source": [
        "# PCA\n",
        "# Corregir y estar pendiente con el idioma del archivo, y las palabras compuestas\n",
        "# n-gramas\n",
        "# probabilidad de aparición de dos palabras en un texto\n",
        "# Procesos de agragación\n",
        "# Procesos de extracción\n",
        "# Procesos de análisis\n",
        "# Procesos de clasificación\n",
        "# Conocer el tamño de la población\n",
        "# Oneshort learning"
      ]
    }
  ],
  "metadata": {
    "accelerator": "GPU",
    "colab": {
      "collapsed_sections": [
        "k-F3nSI8hTBH",
        "pe7auv-EhvkJ",
        "Zm_1bDtakGJA",
        "8Re1IUEpntqQ",
        "NN6YxDK3okLm",
        "0wfdPd0rrRZd",
        "atYVRNoPuUUg",
        "Oka_zjK_udvT",
        "e0kGz88yvJ5R",
        "wuC5FD9avVDS",
        "A0Kaw0KGvkfr",
        "a5oS2lYZv0Rg",
        "bgZlKlLJwcIa",
        "aTxNyKvcwQLE"
      ],
      "gpuType": "T4",
      "machine_shape": "hm",
      "provenance": [],
      "include_colab_link": true
    },
    "kernelspec": {
      "display_name": "Python 3",
      "name": "python3"
    },
    "language_info": {
      "name": "python"
    }
  },
  "nbformat": 4,
  "nbformat_minor": 0
}