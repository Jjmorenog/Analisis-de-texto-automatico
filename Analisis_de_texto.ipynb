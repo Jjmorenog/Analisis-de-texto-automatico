{
  "nbformat": 4,
  "nbformat_minor": 0,
  "metadata": {
    "colab": {
      "provenance": []
    },
    "kernelspec": {
      "name": "python3",
      "display_name": "Python 3"
    },
    "language_info": {
      "name": "python"
    }
  },
  "cells": [
    {
      "cell_type": "markdown",
      "source": [
        "#Analisis de texto (EPI)"
      ],
      "metadata": {
        "id": "McqIHScg7oCZ"
      }
    },
    {
      "cell_type": "code",
      "execution_count": 20,
      "metadata": {
        "colab": {
          "base_uri": "https://localhost:8080/"
        },
        "id": "3JKoZAjx7m_3",
        "outputId": "922334f1-5738-4de3-e4f7-423e9eaa42c1"
      },
      "outputs": [
        {
          "output_type": "stream",
          "name": "stdout",
          "text": [
            "Python 3.10.12\n"
          ]
        }
      ],
      "source": [
        "!python --version"
      ]
    },
    {
      "cell_type": "code",
      "source": [
        "import pandas as pd\n",
        "pd.__version__"
      ],
      "metadata": {
        "colab": {
          "base_uri": "https://localhost:8080/",
          "height": 36
        },
        "id": "6qx3ylIvCnrz",
        "outputId": "fee3fcc5-693c-4ef3-dc61-84e1b1ca5e31"
      },
      "execution_count": 21,
      "outputs": [
        {
          "output_type": "execute_result",
          "data": {
            "text/plain": [
              "'1.5.3'"
            ],
            "application/vnd.google.colaboratory.intrinsic+json": {
              "type": "string"
            }
          },
          "metadata": {},
          "execution_count": 21
        }
      ]
    },
    {
      "cell_type": "code",
      "source": [
        "!pip install PyPDF2"
      ],
      "metadata": {
        "colab": {
          "base_uri": "https://localhost:8080/"
        },
        "id": "LZfbS0NhCy33",
        "outputId": "c6e37c96-ca61-4415-c5d7-42b82e1af173"
      },
      "execution_count": 22,
      "outputs": [
        {
          "output_type": "stream",
          "name": "stdout",
          "text": [
            "Requirement already satisfied: PyPDF2 in /usr/local/lib/python3.10/dist-packages (3.0.1)\n"
          ]
        }
      ]
    },
    {
      "cell_type": "code",
      "source": [
        "from google.colab import drive\n",
        "drive.mount('/content/drive')"
      ],
      "metadata": {
        "id": "X7chw9Z_DFRu",
        "colab": {
          "base_uri": "https://localhost:8080/"
        },
        "outputId": "a09bc501-db23-4395-d68b-585eff1d37bf"
      },
      "execution_count": 5,
      "outputs": [
        {
          "output_type": "stream",
          "name": "stdout",
          "text": [
            "Drive already mounted at /content/drive; to attempt to forcibly remount, call drive.mount(\"/content/drive\", force_remount=True).\n"
          ]
        }
      ]
    },
    {
      "cell_type": "code",
      "source": [
        "import glob, os\n",
        "# glob: Se utiliza para realizar búsquedas de archivos usando patrones de nombres de archivo.\n",
        "#       Permite encontrar todos los archivos que coinciden con un patrón específico en un directorio.\n",
        "\n",
        "# os: Proporciona una interfaz para interactuar con el sistema operativo.\n",
        "#     Contiene funciones que permiten realizar operaciones comunes relacionadas con el sistema operativo,\n",
        "#     como manipulación de archivos y directorios, obtención de información del sistema, etc.\n",
        "\n",
        "import PyPDF2\n",
        "from prettytable import PrettyTable #Facilita la creación de tablas con columnas alineadas"
      ],
      "metadata": {
        "id": "fMXTjpdBC8Kj"
      },
      "execution_count": 23,
      "outputs": []
    },
    {
      "cell_type": "code",
      "source": [
        "# Extension de los archivos\n",
        "ext = \"*.pdf\"\n",
        "PATH = \"/content/drive/MyDrive/Tesis Hugo y Juan Jose - Análisis texto - TD/Conjunto de Datos\"\n",
        "\n",
        "# Lista de archivos\n",
        "files = []\n",
        "\n",
        "# Recorre todos los directorios y subdirectorios a partir de la ruta proporcionada\n",
        "for dirpath, dirnames, filenames in os.walk(PATH):\n",
        "    # Utiliza glob para obtener los archivos con la extensión especificada en cada directorio\n",
        "    files += glob.glob(os.path.join(dirpath, ext))"
      ],
      "metadata": {
        "id": "PIDNodP-A9YT"
      },
      "execution_count": 24,
      "outputs": []
    },
    {
      "cell_type": "code",
      "source": [
        "# Inicializa un diccionario para llevar un conteo de archivos por directorio\n",
        "file_count_per_directory = {}\n",
        "\n",
        "# Itera sobre la lista de archivos para incrementar el contador por directorio\n",
        "for file in files:\n",
        "    directory = os.path.dirname(file) # Obtiene el directorio de cada archivo\n",
        "    file_count_per_directory[directory] = file_count_per_directory.get(directory, 0) + 1 #  Incrementa el contador por directorio en el diccionario\n",
        "\n",
        "# Crea una tabla para mostrar la cantidad de archivos por directorio\n",
        "table = PrettyTable()\n",
        "table.field_names = [\"Directorio\", \"Archivos\"]\n",
        "\n",
        "# Agrega las filas a la tabla\n",
        "for directory, count in file_count_per_directory.items():\n",
        "    table.add_row([directory, count])\n",
        "\n",
        "\n",
        "print(table)\n",
        "\n",
        "total_files = sum(file_count_per_directory.values())\n",
        "print(f\"\\nTotal de archivos: {total_files}\")"
      ],
      "metadata": {
        "colab": {
          "base_uri": "https://localhost:8080/"
        },
        "id": "dYRIrBlH06nR",
        "outputId": "c56060bd-65b0-4a9c-b5fa-43a9f9e6942d"
      },
      "execution_count": 25,
      "outputs": [
        {
          "output_type": "stream",
          "name": "stdout",
          "text": [
            "+--------------------------------------------------------------------------------------------------------------+----------+\n",
            "|                                                  Directorio                                                  | Archivos |\n",
            "+--------------------------------------------------------------------------------------------------------------+----------+\n",
            "|          /content/drive/MyDrive/Tesis Hugo y Juan Jose - Análisis texto - TD/Conjunto de Datos/Sage          |    59    |\n",
            "|         /content/drive/MyDrive/Tesis Hugo y Juan Jose - Análisis texto - TD/Conjunto de Datos/Scopus         |   120    |\n",
            "|      /content/drive/MyDrive/Tesis Hugo y Juan Jose - Análisis texto - TD/Conjunto de Datos/Scopus/RUSO       |    7     |\n",
            "|        /content/drive/MyDrive/Tesis Hugo y Juan Jose - Análisis texto - TD/Conjunto de Datos/Redalyc         |    30    |\n",
            "| /content/drive/MyDrive/Tesis Hugo y Juan Jose - Análisis texto - TD/Conjunto de Datos/Taylor _ Francis Group |    50    |\n",
            "|     /content/drive/MyDrive/Tesis Hugo y Juan Jose - Análisis texto - TD/Conjunto de Datos/ScienceDirect      |    8     |\n",
            "+--------------------------------------------------------------------------------------------------------------+----------+\n",
            "\n",
            "Total de archivos: 274\n"
          ]
        }
      ]
    },
    {
      "cell_type": "code",
      "source": [
        "#Probar con la metadata de un archivo especifico\n",
        "\n",
        "archivo_a_analizar = \"/content/drive/MyDrive/Tesis Hugo y Juan Jose - Análisis texto - TD/Conjunto de Datos/Redalyc/A mapping analysis of maintenance in Industry 4,0.pdf\"\n",
        "\n",
        "\n",
        "# Verifica si el archivo existe\n",
        "if os.path.exists(archivo_a_analizar):\n",
        "    # Obtiene información del archivo\n",
        "    nombre_archivo = os.path.basename(archivo_a_analizar)\n",
        "    directorio_archivo = os.path.dirname(archivo_a_analizar)\n",
        "    tamaño_archivo = os.path.getsize(archivo_a_analizar)  # en bytes\n",
        "\n",
        "\n",
        "    # Obtiene el número de páginas del archivo PDF\n",
        "    with open(archivo_a_analizar, 'rb') as pdf_file:\n",
        "        pdf_reader = PyPDF2.PdfReader(pdf_file)\n",
        "        numero_de_paginas = len(pdf_reader.pages)\n",
        "\n",
        "    # Muestra la información del archivo\n",
        "    print(\"Información del archivo:\")\n",
        "    print(f\"Nombre: {nombre_archivo}\")\n",
        "    print(f\"Ruta completa: {archivo_a_analizar}\")\n",
        "    print(f\"Directorio: {directorio_archivo}\")\n",
        "    print(f\"Tamaño: {tamaño_archivo/1024} Megabytes\")\n",
        "    print(f\"Número de páginas: {numero_de_paginas}\")\n",
        "else:\n",
        "    print(f\"El archivo {archivo_a_analizar} no existe.\")"
      ],
      "metadata": {
        "colab": {
          "base_uri": "https://localhost:8080/"
        },
        "id": "RmaAaIC1EI8j",
        "outputId": "96cbb795-f58f-4f81-f3e8-a1700c95f754"
      },
      "execution_count": 26,
      "outputs": [
        {
          "output_type": "stream",
          "name": "stdout",
          "text": [
            "Información del archivo:\n",
            "Nombre: A mapping analysis of maintenance in Industry 4,0.pdf\n",
            "Ruta completa: /content/drive/MyDrive/Tesis Hugo y Juan Jose - Análisis texto - TD/Conjunto de Datos/Redalyc/A mapping analysis of maintenance in Industry 4,0.pdf\n",
            "Directorio: /content/drive/MyDrive/Tesis Hugo y Juan Jose - Análisis texto - TD/Conjunto de Datos/Redalyc\n",
            "Tamaño: 785.833984375 Megabytes\n",
            "Número de páginas: 24\n"
          ]
        }
      ]
    }
  ]
}